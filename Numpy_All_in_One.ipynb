{
  "nbformat": 4,
  "nbformat_minor": 0,
  "metadata": {
    "colab": {
      "provenance": [],
      "authorship_tag": "ABX9TyNKtWdqCNRt9gEzr6xgaZS7",
      "include_colab_link": true
    },
    "kernelspec": {
      "name": "python3",
      "display_name": "Python 3"
    },
    "language_info": {
      "name": "python"
    }
  },
  "cells": [
    {
      "cell_type": "markdown",
      "metadata": {
        "id": "view-in-github",
        "colab_type": "text"
      },
      "source": [
        "<a href=\"https://colab.research.google.com/github/iamnaofil/iamnaofil/blob/main/Numpy_All_in_One.ipynb\" target=\"_parent\"><img src=\"https://colab.research.google.com/assets/colab-badge.svg\" alt=\"Open In Colab\"/></a>"
      ]
    },
    {
      "cell_type": "code",
      "execution_count": 2,
      "metadata": {
        "id": "4KtU4kJdvd4X"
      },
      "outputs": [],
      "source": [
        "import numpy as np"
      ]
    },
    {
      "cell_type": "markdown",
      "source": [
        "**Numpy Array Creation**"
      ],
      "metadata": {
        "id": "E_EGbVUThXru"
      }
    },
    {
      "cell_type": "markdown",
      "source": [
        "Simple way to create array (empty array: NOT ACTUALLY EMPTY)\n"
      ],
      "metadata": {
        "id": "B47Ti1NyhjZN"
      }
    },
    {
      "cell_type": "code",
      "source": [
        "empty=np.empty([])\n",
        "empty"
      ],
      "metadata": {
        "colab": {
          "base_uri": "https://localhost:8080/",
          "height": 0
        },
        "id": "QsNCgAPIhnXt",
        "outputId": "0afa2ac7-47fc-40d7-98a4-9d9b6368c13c"
      },
      "execution_count": 292,
      "outputs": [
        {
          "output_type": "execute_result",
          "data": {
            "text/plain": [
              "array(221.)"
            ]
          },
          "metadata": {},
          "execution_count": 292
        }
      ]
    },
    {
      "cell_type": "code",
      "source": [
        "#to give any dimesnion (Row x Col) Use tuple inside list\n",
        "empty2=np.empty((3,4))"
      ],
      "metadata": {
        "id": "BGHTLbT3hwP9"
      },
      "execution_count": 293,
      "outputs": []
    },
    {
      "cell_type": "code",
      "source": [
        "empty2"
      ],
      "metadata": {
        "colab": {
          "base_uri": "https://localhost:8080/",
          "height": 0
        },
        "id": "pLm_7iPLhwX2",
        "outputId": "4d315aa8-c041-4a6b-d28a-fa0da7053f7c"
      },
      "execution_count": 294,
      "outputs": [
        {
          "output_type": "execute_result",
          "data": {
            "text/plain": [
              "array([[ 6.12323400e-17,  1.00000000e+00, -9.51056516e-01,\n",
              "         3.09016994e-01],\n",
              "       [-5.87785252e-01, -8.09016994e-01,  5.87785252e-01,\n",
              "        -8.09016994e-01],\n",
              "       [ 9.51056516e-01,  3.09016994e-01,  3.06161700e-16,\n",
              "         1.00000000e+00]])"
            ]
          },
          "metadata": {},
          "execution_count": 294
        }
      ]
    },
    {
      "cell_type": "markdown",
      "source": [
        "Using np.array()"
      ],
      "metadata": {
        "id": "hBNCYLgNiOZ9"
      }
    },
    {
      "cell_type": "code",
      "source": [
        "# a 1D Array with single Row and 3 Col\n",
        "sim=np.array([1,2,3])\n",
        "sim"
      ],
      "metadata": {
        "colab": {
          "base_uri": "https://localhost:8080/",
          "height": 0
        },
        "id": "rmyguqJahwaj",
        "outputId": "10c63cfd-6cf2-43db-c3a6-5acf9337831c"
      },
      "execution_count": 296,
      "outputs": [
        {
          "output_type": "execute_result",
          "data": {
            "text/plain": [
              "array([1, 2, 3])"
            ]
          },
          "metadata": {},
          "execution_count": 296
        }
      ]
    },
    {
      "cell_type": "code",
      "source": [
        "# a 2 D Array with 2 Row 2 Col\n",
        "sim2=np.array([[1,2],[3,4]])\n",
        "sim2"
      ],
      "metadata": {
        "colab": {
          "base_uri": "https://localhost:8080/",
          "height": 0
        },
        "id": "1Oeiq-V3hwc9",
        "outputId": "03d24835-698b-4e17-f065-78a01f4be474"
      },
      "execution_count": 298,
      "outputs": [
        {
          "output_type": "execute_result",
          "data": {
            "text/plain": [
              "array([[1, 2],\n",
              "       [3, 4]])"
            ]
          },
          "metadata": {},
          "execution_count": 298
        }
      ]
    },
    {
      "cell_type": "code",
      "source": [
        "# a 3 D Array with 3 Level of Dimensions\n",
        "# Outermost Have 4 Elements\n",
        "#Mid have 2 Elements\n",
        "#Inner have 3 elements\n",
        "sim3=np.array([[[1,2,3],[4,5,6]],[[10,20,30],[40,50,60]]])\n",
        "sim3"
      ],
      "metadata": {
        "colab": {
          "base_uri": "https://localhost:8080/",
          "height": 0
        },
        "id": "KsdDODr8ikQV",
        "outputId": "84dad31f-d5ed-44cc-d16e-661c274e1e60"
      },
      "execution_count": 301,
      "outputs": [
        {
          "output_type": "execute_result",
          "data": {
            "text/plain": [
              "array([[[ 1,  2,  3],\n",
              "        [ 4,  5,  6]],\n",
              "\n",
              "       [[10, 20, 30],\n",
              "        [40, 50, 60]]])"
            ]
          },
          "metadata": {},
          "execution_count": 301
        }
      ]
    },
    {
      "cell_type": "code",
      "source": [
        "#Size means element counts\n",
        "sim3.size"
      ],
      "metadata": {
        "colab": {
          "base_uri": "https://localhost:8080/",
          "height": 0
        },
        "id": "hX9UYXxdikX1",
        "outputId": "982b02dd-77f5-46e7-ecc5-4227e09eaf7a"
      },
      "execution_count": 302,
      "outputs": [
        {
          "output_type": "execute_result",
          "data": {
            "text/plain": [
              "12"
            ]
          },
          "metadata": {},
          "execution_count": 302
        }
      ]
    },
    {
      "cell_type": "code",
      "source": [
        "sim2.size"
      ],
      "metadata": {
        "colab": {
          "base_uri": "https://localhost:8080/",
          "height": 0
        },
        "id": "JVbaX1pLikaY",
        "outputId": "2cd8e00b-03a9-4e12-a6cd-f0b11a904bd0"
      },
      "execution_count": 303,
      "outputs": [
        {
          "output_type": "execute_result",
          "data": {
            "text/plain": [
              "4"
            ]
          },
          "metadata": {},
          "execution_count": 303
        }
      ]
    },
    {
      "cell_type": "code",
      "source": [
        "#ndim Tells Dimension of array\n",
        "sim.ndim"
      ],
      "metadata": {
        "colab": {
          "base_uri": "https://localhost:8080/",
          "height": 0
        },
        "id": "1Ff0Le_njdpN",
        "outputId": "6f193c56-557b-43db-9518-c5d441bac42d"
      },
      "execution_count": 305,
      "outputs": [
        {
          "output_type": "execute_result",
          "data": {
            "text/plain": [
              "1"
            ]
          },
          "metadata": {},
          "execution_count": 305
        }
      ]
    },
    {
      "cell_type": "code",
      "source": [
        "sim2.ndim"
      ],
      "metadata": {
        "colab": {
          "base_uri": "https://localhost:8080/",
          "height": 0
        },
        "id": "Cow2Z1lLjlf8",
        "outputId": "e37a9750-bc1f-4773-fb0d-6293cc37267f"
      },
      "execution_count": 306,
      "outputs": [
        {
          "output_type": "execute_result",
          "data": {
            "text/plain": [
              "2"
            ]
          },
          "metadata": {},
          "execution_count": 306
        }
      ]
    },
    {
      "cell_type": "code",
      "source": [
        "sim3.ndim"
      ],
      "metadata": {
        "colab": {
          "base_uri": "https://localhost:8080/",
          "height": 0
        },
        "id": "Nsuvqaxmjlig",
        "outputId": "fc0c0e07-22ef-450c-f7df-5a707305efad"
      },
      "execution_count": 307,
      "outputs": [
        {
          "output_type": "execute_result",
          "data": {
            "text/plain": [
              "3"
            ]
          },
          "metadata": {},
          "execution_count": 307
        }
      ]
    },
    {
      "cell_type": "code",
      "source": [
        "#shape tells Row x Column (3,) means 3 Rows No Column\n",
        "sim.shape"
      ],
      "metadata": {
        "colab": {
          "base_uri": "https://localhost:8080/",
          "height": 0
        },
        "id": "xBlqaTRmjdrr",
        "outputId": "e4ccd824-092d-4ca9-d6df-31b26eb5b123"
      },
      "execution_count": 308,
      "outputs": [
        {
          "output_type": "execute_result",
          "data": {
            "text/plain": [
              "(3,)"
            ]
          },
          "metadata": {},
          "execution_count": 308
        }
      ]
    },
    {
      "cell_type": "code",
      "source": [
        "sim2.shape #(2,2) means 2 Row with 2 Column"
      ],
      "metadata": {
        "colab": {
          "base_uri": "https://localhost:8080/",
          "height": 0
        },
        "id": "EgKmzbZzjoxF",
        "outputId": "7cd39194-f54c-41fe-c924-a4bb1a4ae897"
      },
      "execution_count": 309,
      "outputs": [
        {
          "output_type": "execute_result",
          "data": {
            "text/plain": [
              "(2, 2)"
            ]
          },
          "metadata": {},
          "execution_count": 309
        }
      ]
    },
    {
      "cell_type": "code",
      "source": [
        "sim3.shape # (2,2,3) as I describe prevoiusly for outer most\n",
        "#there is 2 Rows, for Mid there is 2 Rows and for inner there is 3 elements"
      ],
      "metadata": {
        "colab": {
          "base_uri": "https://localhost:8080/",
          "height": 0
        },
        "id": "0icyd5lJjdtx",
        "outputId": "46dff66a-9fbf-4240-fdc0-d86155594cdc"
      },
      "execution_count": 313,
      "outputs": [
        {
          "output_type": "execute_result",
          "data": {
            "text/plain": [
              "(2, 2, 3)"
            ]
          },
          "metadata": {},
          "execution_count": 313
        }
      ]
    },
    {
      "cell_type": "markdown",
      "source": [
        "Using zeros and ones\n"
      ],
      "metadata": {
        "id": "zuCP0Ub7k02W"
      }
    },
    {
      "cell_type": "code",
      "source": [
        "#with single it will create only 3 size 1D arrya of zeros\n",
        "z=np.zeros(3)\n",
        "z"
      ],
      "metadata": {
        "colab": {
          "base_uri": "https://localhost:8080/",
          "height": 0
        },
        "id": "DBanXU6bjzLu",
        "outputId": "496e76be-c6ff-4829-82a7-9efff942ed1b"
      },
      "execution_count": 315,
      "outputs": [
        {
          "output_type": "execute_result",
          "data": {
            "text/plain": [
              "array([0., 0., 0.])"
            ]
          },
          "metadata": {},
          "execution_count": 315
        }
      ]
    },
    {
      "cell_type": "code",
      "source": [
        "#with tuple , create shape wise 2,3 or more\n",
        "z2=np.zeros((2,2))\n",
        "z2"
      ],
      "metadata": {
        "colab": {
          "base_uri": "https://localhost:8080/",
          "height": 0
        },
        "id": "W5TGaN83jdws",
        "outputId": "f610dc30-88bb-4d3e-dc54-76d1bf13c078"
      },
      "execution_count": 318,
      "outputs": [
        {
          "output_type": "execute_result",
          "data": {
            "text/plain": [
              "array([[0., 0.],\n",
              "       [0., 0.]])"
            ]
          },
          "metadata": {},
          "execution_count": 318
        }
      ]
    },
    {
      "cell_type": "code",
      "source": [
        "#with ones :Just 10 size\n",
        "o=np.ones(10)\n",
        "o"
      ],
      "metadata": {
        "colab": {
          "base_uri": "https://localhost:8080/",
          "height": 0
        },
        "id": "JEcuRULklKnc",
        "outputId": "2ad5e2ce-df01-408d-808b-105237232d4c"
      },
      "execution_count": 320,
      "outputs": [
        {
          "output_type": "execute_result",
          "data": {
            "text/plain": [
              "array([1., 1., 1., 1., 1., 1., 1., 1., 1., 1.])"
            ]
          },
          "metadata": {},
          "execution_count": 320
        }
      ]
    },
    {
      "cell_type": "code",
      "source": [
        "#with 2D tuple :\n",
        "o2=np.ones((2,3))\n",
        "o2"
      ],
      "metadata": {
        "colab": {
          "base_uri": "https://localhost:8080/",
          "height": 0
        },
        "id": "9oQEw3gHlKpa",
        "outputId": "d1beff44-eb1e-4e53-94fe-9160e478f64c"
      },
      "execution_count": 323,
      "outputs": [
        {
          "output_type": "execute_result",
          "data": {
            "text/plain": [
              "array([[1., 1., 1.],\n",
              "       [1., 1., 1.]])"
            ]
          },
          "metadata": {},
          "execution_count": 323
        }
      ]
    },
    {
      "cell_type": "markdown",
      "source": [
        "Using arange()"
      ],
      "metadata": {
        "id": "UDhmNye5lhaU"
      }
    },
    {
      "cell_type": "code",
      "source": [
        "#for single value, it will arange 0 to n as you define\n",
        "\n",
        "sample=np.arange(10)\n",
        "sample"
      ],
      "metadata": {
        "colab": {
          "base_uri": "https://localhost:8080/",
          "height": 0
        },
        "id": "O46ImIY-lKru",
        "outputId": "f5be8e3f-b995-4e07-981d-871875f22c29"
      },
      "execution_count": 326,
      "outputs": [
        {
          "output_type": "execute_result",
          "data": {
            "text/plain": [
              "array([0, 1, 2, 3, 4, 5, 6, 7, 8, 9])"
            ]
          },
          "metadata": {},
          "execution_count": 326
        }
      ]
    },
    {
      "cell_type": "code",
      "source": [
        "#If give range , act as arange(start,stop)\n",
        "sample2=np.arange(1,20)\n",
        "sample2"
      ],
      "metadata": {
        "colab": {
          "base_uri": "https://localhost:8080/",
          "height": 0
        },
        "id": "QZfjDJ4WlKuB",
        "outputId": "595c9033-dc59-401f-b2c4-413d1f37fab6"
      },
      "execution_count": 328,
      "outputs": [
        {
          "output_type": "execute_result",
          "data": {
            "text/plain": [
              "array([ 1,  2,  3,  4,  5,  6,  7,  8,  9, 10, 11, 12, 13, 14, 15, 16, 17,\n",
              "       18, 19])"
            ]
          },
          "metadata": {},
          "execution_count": 328
        }
      ]
    },
    {
      "cell_type": "code",
      "source": [
        "#Now if give 3 parameter, it will acts as arange(start,stop,step)\n",
        "sample3=np.arange(1,20,2)\n",
        "sample3"
      ],
      "metadata": {
        "colab": {
          "base_uri": "https://localhost:8080/",
          "height": 0
        },
        "id": "2LGGN1-5l4js",
        "outputId": "9d338cd9-ac5e-4519-e921-20e20e634c1c"
      },
      "execution_count": 331,
      "outputs": [
        {
          "output_type": "execute_result",
          "data": {
            "text/plain": [
              "array([ 1,  3,  5,  7,  9, 11, 13, 15, 17, 19])"
            ]
          },
          "metadata": {},
          "execution_count": 331
        }
      ]
    },
    {
      "cell_type": "markdown",
      "source": [
        "Using linspace ( equally distributed)\n"
      ],
      "metadata": {
        "id": "yot5t6zfmGoe"
      }
    },
    {
      "cell_type": "code",
      "source": [
        "#Always take 2 param: start stop, automatically distribute and make 50 sampless automatically\n",
        "lin=np.linspace(3,4)\n",
        "lin"
      ],
      "metadata": {
        "colab": {
          "base_uri": "https://localhost:8080/",
          "height": 0
        },
        "id": "tc_Vc6B5l4rE",
        "outputId": "05f14275-e081-42d2-cb96-513f4db7971f"
      },
      "execution_count": 334,
      "outputs": [
        {
          "output_type": "execute_result",
          "data": {
            "text/plain": [
              "array([3.        , 3.02040816, 3.04081633, 3.06122449, 3.08163265,\n",
              "       3.10204082, 3.12244898, 3.14285714, 3.16326531, 3.18367347,\n",
              "       3.20408163, 3.2244898 , 3.24489796, 3.26530612, 3.28571429,\n",
              "       3.30612245, 3.32653061, 3.34693878, 3.36734694, 3.3877551 ,\n",
              "       3.40816327, 3.42857143, 3.44897959, 3.46938776, 3.48979592,\n",
              "       3.51020408, 3.53061224, 3.55102041, 3.57142857, 3.59183673,\n",
              "       3.6122449 , 3.63265306, 3.65306122, 3.67346939, 3.69387755,\n",
              "       3.71428571, 3.73469388, 3.75510204, 3.7755102 , 3.79591837,\n",
              "       3.81632653, 3.83673469, 3.85714286, 3.87755102, 3.89795918,\n",
              "       3.91836735, 3.93877551, 3.95918367, 3.97959184, 4.        ])"
            ]
          },
          "metadata": {},
          "execution_count": 334
        }
      ]
    },
    {
      "cell_type": "code",
      "source": [
        "#If you assign, how many you want, linsapce(start,stop,size)\n",
        "lin2=np.linspace(3,4,10)\n",
        "lin2"
      ],
      "metadata": {
        "colab": {
          "base_uri": "https://localhost:8080/",
          "height": 0
        },
        "id": "1Uqmv4spmFas",
        "outputId": "548c80c7-11f6-4485-ca2b-64a0be29aa69"
      },
      "execution_count": 336,
      "outputs": [
        {
          "output_type": "execute_result",
          "data": {
            "text/plain": [
              "array([3.        , 3.11111111, 3.22222222, 3.33333333, 3.44444444,\n",
              "       3.55555556, 3.66666667, 3.77777778, 3.88888889, 4.        ])"
            ]
          },
          "metadata": {},
          "execution_count": 336
        }
      ]
    },
    {
      "cell_type": "markdown",
      "source": [
        "Using random ( randint, and more )\n"
      ],
      "metadata": {
        "id": "9LZePt93mqbO"
      }
    },
    {
      "cell_type": "code",
      "source": [
        "#rand() any from 0 to 1 interval\n",
        "#if not param ,just generate a single value ( scalar value)\n",
        "r=np.random.rand()\n",
        "r"
      ],
      "metadata": {
        "colab": {
          "base_uri": "https://localhost:8080/",
          "height": 0
        },
        "id": "brDGIU2omFgk",
        "outputId": "9822e0c2-4176-4c2a-bfce-92c438bcbb68"
      },
      "execution_count": 338,
      "outputs": [
        {
          "output_type": "execute_result",
          "data": {
            "text/plain": [
              "0.3961095803142838"
            ]
          },
          "metadata": {},
          "execution_count": 338
        }
      ]
    },
    {
      "cell_type": "code",
      "source": [
        "#How many number you want\n",
        "#specify number\n",
        "r2=np.random.rand(5)\n",
        "r2"
      ],
      "metadata": {
        "colab": {
          "base_uri": "https://localhost:8080/",
          "height": 0
        },
        "id": "oPUzXt01l4x0",
        "outputId": "d6b44a7b-40da-49a5-a4f0-9cdd8c90d8a7"
      },
      "execution_count": 340,
      "outputs": [
        {
          "output_type": "execute_result",
          "data": {
            "text/plain": [
              "array([0.61337885, 0.83969487, 0.85302075, 0.26656255, 0.58279035])"
            ]
          },
          "metadata": {},
          "execution_count": 340
        }
      ]
    },
    {
      "cell_type": "code",
      "source": [
        "#uniform distribution\n",
        "#from 1 to 5 , any random , just 10 items size\n",
        "r3=np.random.uniform(1,5,10)\n",
        "r3"
      ],
      "metadata": {
        "colab": {
          "base_uri": "https://localhost:8080/",
          "height": 0
        },
        "id": "u2rPSZ-1nFg9",
        "outputId": "014ba399-4ee7-4d74-b5fe-1f20126d7daf"
      },
      "execution_count": 343,
      "outputs": [
        {
          "output_type": "execute_result",
          "data": {
            "text/plain": [
              "array([3.17098591, 3.60531346, 2.57012261, 4.63778806, 1.34085207,\n",
              "       1.42780874, 1.06031433, 1.43812706, 4.44170208, 2.36629693])"
            ]
          },
          "metadata": {},
          "execution_count": 343
        }
      ]
    },
    {
      "cell_type": "code",
      "source": [
        "#using interger random, if single , 1 value\n",
        "r4=np.random.randint(2)\n",
        "r4"
      ],
      "metadata": {
        "colab": {
          "base_uri": "https://localhost:8080/",
          "height": 0
        },
        "id": "YQLYsFg-nFi-",
        "outputId": "514326d6-c40a-40f6-ef35-e73641fd8063"
      },
      "execution_count": 346,
      "outputs": [
        {
          "output_type": "execute_result",
          "data": {
            "text/plain": [
              "1"
            ]
          },
          "metadata": {},
          "execution_count": 346
        }
      ]
    },
    {
      "cell_type": "code",
      "source": [
        "#Choose any between (n1,n2)\n",
        "r5=np.random.randint(2,10)\n",
        "r5"
      ],
      "metadata": {
        "colab": {
          "base_uri": "https://localhost:8080/",
          "height": 0
        },
        "id": "qnoOX7rZnFoH",
        "outputId": "40257ae1-80a2-4709-f601-df779cd34dd2"
      },
      "execution_count": 349,
      "outputs": [
        {
          "output_type": "execute_result",
          "data": {
            "text/plain": [
              "8"
            ]
          },
          "metadata": {},
          "execution_count": 349
        }
      ]
    },
    {
      "cell_type": "code",
      "source": [
        "#random choise : choose from any array or tuple\n",
        "#r6=np.random.choice((1,2,3,4,6))\n",
        "r6=np.random.choice([1,2,3,4,6])\n",
        "r6"
      ],
      "metadata": {
        "colab": {
          "base_uri": "https://localhost:8080/",
          "height": 0
        },
        "id": "e7f2T6Amn4cv",
        "outputId": "4987b3ac-9ed0-4f5b-c85c-a51aaf329f36"
      },
      "execution_count": 354,
      "outputs": [
        {
          "output_type": "execute_result",
          "data": {
            "text/plain": [
              "2"
            ]
          },
          "metadata": {},
          "execution_count": 354
        }
      ]
    },
    {
      "cell_type": "markdown",
      "source": [
        "**Using Gaussian Distribution ( Normally Distributed)**"
      ],
      "metadata": {
        "id": "HLKzFA57oOL_"
      }
    },
    {
      "cell_type": "code",
      "source": [
        "#Normal Distribution\n",
        "#single , choose 0 to n any normally distributed\n",
        "nd=np.random.normal(100)\n",
        "nd"
      ],
      "metadata": {
        "colab": {
          "base_uri": "https://localhost:8080/",
          "height": 0
        },
        "id": "tnK8sv2Mn4fH",
        "outputId": "f4c56b68-37fd-4574-f8bb-def36a3f14a5"
      },
      "execution_count": 356,
      "outputs": [
        {
          "output_type": "execute_result",
          "data": {
            "text/plain": [
              "99.32941254699077"
            ]
          },
          "metadata": {},
          "execution_count": 356
        }
      ]
    },
    {
      "cell_type": "code",
      "source": [
        "#generate any random size 30\n",
        "nd3=np.random.randn(30)\n",
        "nd3"
      ],
      "metadata": {
        "colab": {
          "base_uri": "https://localhost:8080/",
          "height": 0
        },
        "id": "Fsxcjpv1ou4W",
        "outputId": "6a78e110-716d-4322-8f75-6006471c19c9"
      },
      "execution_count": 361,
      "outputs": [
        {
          "output_type": "execute_result",
          "data": {
            "text/plain": [
              "array([ 0.4370536 , -0.13253738, -0.56157357, -0.1726141 , -1.35089969,\n",
              "        1.58058053,  0.92865064, -0.71757729, -0.76965603, -0.1698047 ,\n",
              "        0.32795337, -0.64973034,  0.58225763,  0.24157651, -0.40646482,\n",
              "        2.15887265,  0.25795386,  0.32904252,  1.59358179, -0.16646339,\n",
              "       -1.61107662,  2.03162968,  0.15348739,  0.87720435, -1.07659217,\n",
              "       -1.09808987,  1.00544005,  0.10292153, -0.0706886 , -0.84608791])"
            ]
          },
          "metadata": {},
          "execution_count": 361
        }
      ]
    },
    {
      "cell_type": "code",
      "source": [
        "#mean of 1 and standard devaition of 100\n",
        "# remeber this is not like start and stop\n",
        "#like ( loc, scale, size)\n",
        "nd2=np.random.normal(1,100,5)\n",
        "nd2"
      ],
      "metadata": {
        "colab": {
          "base_uri": "https://localhost:8080/",
          "height": 0
        },
        "id": "JvIMFaTXoJ9u",
        "outputId": "242480a0-c4c4-4811-89c1-a0204f595a85"
      },
      "execution_count": 359,
      "outputs": [
        {
          "output_type": "execute_result",
          "data": {
            "text/plain": [
              "array([-186.75947385,  -21.66801461,   97.5546553 , -123.9998007 ,\n",
              "        -14.86922086])"
            ]
          },
          "metadata": {},
          "execution_count": 359
        }
      ]
    },
    {
      "cell_type": "markdown",
      "source": [
        "**Using eye and identity**"
      ],
      "metadata": {
        "id": "Q8gfdywXpTMH"
      }
    },
    {
      "cell_type": "code",
      "source": [
        "#create an identity matrix of shape that defines not like this e=np.identity(3,4)\n",
        "e=np.identity(3)\n",
        "e"
      ],
      "metadata": {
        "colab": {
          "base_uri": "https://localhost:8080/",
          "height": 0
        },
        "id": "eSSdKmNToKLv",
        "outputId": "f7b9eb45-e809-4615-abb1-930fb8611535"
      },
      "execution_count": 366,
      "outputs": [
        {
          "output_type": "execute_result",
          "data": {
            "text/plain": [
              "array([[1., 0., 0.],\n",
              "       [0., 1., 0.],\n",
              "       [0., 0., 1.]])"
            ]
          },
          "metadata": {},
          "execution_count": 366
        }
      ]
    },
    {
      "cell_type": "code",
      "source": [
        "#but using eye we can create any width range identity matrix\n",
        "e2=np.eye(3,4)\n",
        "e2"
      ],
      "metadata": {
        "colab": {
          "base_uri": "https://localhost:8080/",
          "height": 0
        },
        "id": "l2ozRiCkp1IB",
        "outputId": "aedfb7d4-f091-4eb9-aab3-419f4042e73c"
      },
      "execution_count": 369,
      "outputs": [
        {
          "output_type": "execute_result",
          "data": {
            "text/plain": [
              "array([[1., 0., 0., 0.],\n",
              "       [0., 1., 0., 0.],\n",
              "       [0., 0., 1., 0.]])"
            ]
          },
          "metadata": {},
          "execution_count": 369
        }
      ]
    },
    {
      "cell_type": "markdown",
      "source": [
        "**Using Full()**"
      ],
      "metadata": {
        "id": "Z2LH9H1ZqtN-"
      }
    },
    {
      "cell_type": "code",
      "source": [
        "#using Full()\n",
        "#10 size with fill of 2\n",
        "k=np.full(10,2)\n",
        "\n",
        "k"
      ],
      "metadata": {
        "colab": {
          "base_uri": "https://localhost:8080/",
          "height": 0
        },
        "id": "aZl7gW4AqFoV",
        "outputId": "a99608dd-9533-4f6b-e182-ae5fdd67935e"
      },
      "execution_count": 373,
      "outputs": [
        {
          "output_type": "execute_result",
          "data": {
            "text/plain": [
              "array([2, 2, 2, 2, 2, 2, 2, 2, 2, 2])"
            ]
          },
          "metadata": {},
          "execution_count": 373
        }
      ]
    },
    {
      "cell_type": "code",
      "source": [
        "#with another shape\n",
        "k2=np.full((2,3),5)\n",
        "k2"
      ],
      "metadata": {
        "colab": {
          "base_uri": "https://localhost:8080/",
          "height": 0
        },
        "id": "21LEy-p3qFq-",
        "outputId": "62da2c2d-8bb2-43ad-f050-464b0217e545"
      },
      "execution_count": 375,
      "outputs": [
        {
          "output_type": "execute_result",
          "data": {
            "text/plain": [
              "array([[5, 5, 5],\n",
              "       [5, 5, 5]])"
            ]
          },
          "metadata": {},
          "execution_count": 375
        }
      ]
    },
    {
      "cell_type": "code",
      "source": [
        "#When you want diagnoal value of any number you specified\n",
        "#number of count will create number of columns\n",
        "l=np.diag((10,10))\n",
        "l"
      ],
      "metadata": {
        "colab": {
          "base_uri": "https://localhost:8080/",
          "height": 0
        },
        "id": "HADf0IYRqFtt",
        "outputId": "bb29f385-7feb-43cf-9d24-be8b5215bedc"
      },
      "execution_count": 387,
      "outputs": [
        {
          "output_type": "execute_result",
          "data": {
            "text/plain": [
              "array([[10,  0],\n",
              "       [ 0, 10]])"
            ]
          },
          "metadata": {},
          "execution_count": 387
        }
      ]
    },
    {
      "cell_type": "code",
      "source": [
        "l2=np.diag((2,3))\n",
        "l2"
      ],
      "metadata": {
        "colab": {
          "base_uri": "https://localhost:8080/",
          "height": 0
        },
        "id": "cDQQD-RQrPn9",
        "outputId": "965f175b-d210-47f0-92b7-5718d0b20698"
      },
      "execution_count": 386,
      "outputs": [
        {
          "output_type": "execute_result",
          "data": {
            "text/plain": [
              "array([[2, 0],\n",
              "       [0, 3]])"
            ]
          },
          "metadata": {},
          "execution_count": 386
        }
      ]
    },
    {
      "cell_type": "code",
      "source": [
        "l3=np.diag((2,3,1))\n",
        "l3"
      ],
      "metadata": {
        "colab": {
          "base_uri": "https://localhost:8080/",
          "height": 0
        },
        "id": "q6oCYEPuqFwK",
        "outputId": "f85fdb00-cb8f-4307-92ec-7463a3c51f03"
      },
      "execution_count": 384,
      "outputs": [
        {
          "output_type": "execute_result",
          "data": {
            "text/plain": [
              "array([[2, 0, 0],\n",
              "       [0, 3, 0],\n",
              "       [0, 0, 1]])"
            ]
          },
          "metadata": {},
          "execution_count": 384
        }
      ]
    },
    {
      "cell_type": "markdown",
      "source": [
        "**Operations in Numpy Array**"
      ],
      "metadata": {
        "id": "uY-Rt0TUrWyw"
      }
    },
    {
      "cell_type": "code",
      "source": [
        "# Understand a single value is scaler\n",
        "# a list or array is Vector"
      ],
      "metadata": {
        "id": "s1IEBRWorXGI"
      },
      "execution_count": null,
      "outputs": []
    },
    {
      "cell_type": "code",
      "source": [
        "arr1=np.array([1,2,3,4,5,6])\n",
        "arr2=np.array([4,5,6,7,8,9])"
      ],
      "metadata": {
        "id": "4KA5QKNxvtus"
      },
      "execution_count": 290,
      "outputs": []
    },
    {
      "cell_type": "markdown",
      "source": [
        "**Vector Level Operations**"
      ],
      "metadata": {
        "id": "KDq7_hwNw7jJ"
      }
    },
    {
      "cell_type": "code",
      "source": [
        "#Vector Level Adition\n",
        "arr1+arr2"
      ],
      "metadata": {
        "colab": {
          "base_uri": "https://localhost:8080/",
          "height": 0
        },
        "id": "oWnfoybtv1cD",
        "outputId": "9f5ad150-26e7-45af-fe3d-f59c3f7a2834"
      },
      "execution_count": 8,
      "outputs": [
        {
          "output_type": "execute_result",
          "data": {
            "text/plain": [
              "array([-3, -3, -3, -3, -3, -3])"
            ]
          },
          "metadata": {},
          "execution_count": 8
        }
      ]
    },
    {
      "cell_type": "code",
      "source": [
        "#Vector Level Subtraction\n",
        "arr1-arr2"
      ],
      "metadata": {
        "colab": {
          "base_uri": "https://localhost:8080/",
          "height": 0
        },
        "id": "5ZfFioWwv2_T",
        "outputId": "0701761f-3fd3-4597-f192-fafde787bd5b"
      },
      "execution_count": 10,
      "outputs": [
        {
          "output_type": "execute_result",
          "data": {
            "text/plain": [
              "array([ 5,  7,  9, 11, 13, 15])"
            ]
          },
          "metadata": {},
          "execution_count": 10
        }
      ]
    },
    {
      "cell_type": "code",
      "source": [
        "#Vector Level Multiplication\n",
        "arr1*arr2"
      ],
      "metadata": {
        "colab": {
          "base_uri": "https://localhost:8080/",
          "height": 0
        },
        "id": "DlQoJoPYwQxj",
        "outputId": "ddcec3ba-82a2-49fe-e0c3-9cee1ece46c7"
      },
      "execution_count": 11,
      "outputs": [
        {
          "output_type": "execute_result",
          "data": {
            "text/plain": [
              "array([ 4, 10, 18, 28, 40, 54])"
            ]
          },
          "metadata": {},
          "execution_count": 11
        }
      ]
    },
    {
      "cell_type": "code",
      "source": [
        "#Vector Leve Division\n",
        "arr1/arr2"
      ],
      "metadata": {
        "colab": {
          "base_uri": "https://localhost:8080/",
          "height": 0
        },
        "id": "O3Lc6YNpwUCz",
        "outputId": "52218e71-8e2d-41ae-abd4-fb7aeb5bd217"
      },
      "execution_count": 12,
      "outputs": [
        {
          "output_type": "execute_result",
          "data": {
            "text/plain": [
              "array([0.25      , 0.4       , 0.5       , 0.57142857, 0.625     ,\n",
              "       0.66666667])"
            ]
          },
          "metadata": {},
          "execution_count": 12
        }
      ]
    },
    {
      "cell_type": "markdown",
      "source": [
        "**Scalar Level Operations**"
      ],
      "metadata": {
        "id": "BPO2c3Q0w3BB"
      }
    },
    {
      "cell_type": "code",
      "source": [
        "#Sclar Level Adition\n",
        "arr1+1"
      ],
      "metadata": {
        "colab": {
          "base_uri": "https://localhost:8080/",
          "height": 0
        },
        "id": "-LPfjbCAw0z7",
        "outputId": "a44d8ad8-c0ee-42fa-91ab-bc2453f28c2d"
      },
      "execution_count": 13,
      "outputs": [
        {
          "output_type": "execute_result",
          "data": {
            "text/plain": [
              "array([2, 3, 4, 5, 6, 7])"
            ]
          },
          "metadata": {},
          "execution_count": 13
        }
      ]
    },
    {
      "cell_type": "code",
      "source": [
        "#Scalar Level Multiplication\n",
        "arr2*0.5"
      ],
      "metadata": {
        "colab": {
          "base_uri": "https://localhost:8080/",
          "height": 0
        },
        "id": "SKcZVIXbxE5c",
        "outputId": "9b58f227-66cb-4376-99f1-018fc975f81f"
      },
      "execution_count": 14,
      "outputs": [
        {
          "output_type": "execute_result",
          "data": {
            "text/plain": [
              "array([2. , 2.5, 3. , 3.5, 4. , 4.5])"
            ]
          },
          "metadata": {},
          "execution_count": 14
        }
      ]
    },
    {
      "cell_type": "markdown",
      "source": [
        "**Conditional Level (Vector Type)**"
      ],
      "metadata": {
        "id": "xi1HKan2xVD4"
      }
    },
    {
      "cell_type": "code",
      "source": [
        "#Check individual items\n",
        "arr1>2"
      ],
      "metadata": {
        "colab": {
          "base_uri": "https://localhost:8080/",
          "height": 0
        },
        "id": "rTvaHSs0xI5M",
        "outputId": "10fc3cbc-efa6-4728-a98e-f97167d90019"
      },
      "execution_count": 15,
      "outputs": [
        {
          "output_type": "execute_result",
          "data": {
            "text/plain": [
              "array([False, False,  True,  True,  True,  True])"
            ]
          },
          "metadata": {},
          "execution_count": 15
        }
      ]
    },
    {
      "cell_type": "code",
      "source": [
        "arr2<=5"
      ],
      "metadata": {
        "colab": {
          "base_uri": "https://localhost:8080/",
          "height": 0
        },
        "id": "UJ_lo9l4xdeK",
        "outputId": "0ef1ba12-ba07-44d4-b884-ac7eb12025ad"
      },
      "execution_count": 16,
      "outputs": [
        {
          "output_type": "execute_result",
          "data": {
            "text/plain": [
              "array([ True,  True, False, False, False, False])"
            ]
          },
          "metadata": {},
          "execution_count": 16
        }
      ]
    },
    {
      "cell_type": "code",
      "source": [
        "#Bitwise Checking Individual Items\n",
        "arr1&2"
      ],
      "metadata": {
        "colab": {
          "base_uri": "https://localhost:8080/",
          "height": 0
        },
        "id": "VAfgKzZ0xlhT",
        "outputId": "d2b32019-33a5-4af9-8a80-5455708244b9"
      },
      "execution_count": 18,
      "outputs": [
        {
          "output_type": "execute_result",
          "data": {
            "text/plain": [
              "array([0, 2, 2, 0, 0, 2])"
            ]
          },
          "metadata": {},
          "execution_count": 18
        }
      ]
    },
    {
      "cell_type": "markdown",
      "source": [
        "**Dot Products of Array (shape must be same or like 2x3 3x2)**"
      ],
      "metadata": {
        "id": "fQ3bABx2x-9p"
      }
    },
    {
      "cell_type": "code",
      "source": [
        "arr1.dot(arr2)"
      ],
      "metadata": {
        "colab": {
          "base_uri": "https://localhost:8080/",
          "height": 0
        },
        "id": "FVJM6WgyxnpD",
        "outputId": "c8742e37-b98e-47ef-f4b5-748e5ece43b5"
      },
      "execution_count": 19,
      "outputs": [
        {
          "output_type": "execute_result",
          "data": {
            "text/plain": [
              "154"
            ]
          },
          "metadata": {},
          "execution_count": 19
        }
      ]
    },
    {
      "cell_type": "code",
      "source": [
        "#Static Level (explicitly)\n",
        "np.dot(arr1,arr2)"
      ],
      "metadata": {
        "colab": {
          "base_uri": "https://localhost:8080/",
          "height": 0
        },
        "id": "ItPnDfmMyS5c",
        "outputId": "d86d3b05-5e2a-41bd-f0f8-037b64b46c0a"
      },
      "execution_count": 21,
      "outputs": [
        {
          "output_type": "execute_result",
          "data": {
            "text/plain": [
              "154"
            ]
          },
          "metadata": {},
          "execution_count": 21
        }
      ]
    },
    {
      "cell_type": "code",
      "source": [
        "arr3=np.arange(6).reshape(2,3)\n",
        "arr4=np.arange(6).reshape(3,2)\n",
        "print(arr3)\n",
        "print(\"\\n array -- \\n\")\n",
        "print(arr4)"
      ],
      "metadata": {
        "colab": {
          "base_uri": "https://localhost:8080/",
          "height": 0
        },
        "id": "BPBIOO3yycaE",
        "outputId": "001638ee-7e01-4c9f-a817-8596380228de"
      },
      "execution_count": 29,
      "outputs": [
        {
          "output_type": "stream",
          "name": "stdout",
          "text": [
            "[[0 1 2]\n",
            " [3 4 5]]\n",
            "\n",
            " array -- \n",
            "\n",
            "[[0 1]\n",
            " [2 3]\n",
            " [4 5]]\n"
          ]
        }
      ]
    },
    {
      "cell_type": "code",
      "source": [
        "arr3.dot(arr4)"
      ],
      "metadata": {
        "colab": {
          "base_uri": "https://localhost:8080/",
          "height": 0
        },
        "id": "3SQ9TKvCy5Pk",
        "outputId": "c5631de4-5b7d-4f22-c92d-61869ce6e2ab"
      },
      "execution_count": 26,
      "outputs": [
        {
          "output_type": "execute_result",
          "data": {
            "text/plain": [
              "array([[10, 13],\n",
              "       [28, 40]])"
            ]
          },
          "metadata": {},
          "execution_count": 26
        }
      ]
    },
    {
      "cell_type": "markdown",
      "source": [
        "**Basic Operation a=a+2 converts a+=2**"
      ],
      "metadata": {
        "id": "ElvLywDn8Sek"
      }
    },
    {
      "cell_type": "code",
      "source": [
        "#We tak ea copy of arr3 because we dont want any manipulation in arr3 now\n",
        "arr5=arr3.copy()\n",
        "arr5"
      ],
      "metadata": {
        "colab": {
          "base_uri": "https://localhost:8080/",
          "height": 0
        },
        "id": "yqajD7AU8Y1E",
        "outputId": "92130e2c-d0a4-42f4-bef2-2d10730974cd"
      },
      "execution_count": 96,
      "outputs": [
        {
          "output_type": "execute_result",
          "data": {
            "text/plain": [
              "array([[0, 1, 2],\n",
              "       [3, 4, 5]])"
            ]
          },
          "metadata": {},
          "execution_count": 96
        }
      ]
    },
    {
      "cell_type": "code",
      "source": [
        "#We want to substract and store it in arr5 but we earr5-=1\n",
        "arr5"
      ],
      "metadata": {
        "colab": {
          "base_uri": "https://localhost:8080/",
          "height": 0
        },
        "id": "yF5c66Z-8dHc",
        "outputId": "5a539e2f-7725-489c-c096-8de5e4f46664"
      },
      "execution_count": 97,
      "outputs": [
        {
          "output_type": "execute_result",
          "data": {
            "text/plain": [
              "array([[0, 1, 2],\n",
              "       [3, 4, 5]])"
            ]
          },
          "metadata": {},
          "execution_count": 97
        }
      ]
    },
    {
      "cell_type": "code",
      "source": [
        "#Increamenting\n",
        "arr5+=1"
      ],
      "metadata": {
        "id": "aZrqA9Or85pk"
      },
      "execution_count": 98,
      "outputs": []
    },
    {
      "cell_type": "code",
      "source": [
        "arr5+=2"
      ],
      "metadata": {
        "id": "ck_6xco8852s"
      },
      "execution_count": 99,
      "outputs": []
    },
    {
      "cell_type": "code",
      "source": [
        "print(arr5)"
      ],
      "metadata": {
        "colab": {
          "base_uri": "https://localhost:8080/",
          "height": 0
        },
        "id": "D_fzxri09Yl9",
        "outputId": "7bcf4048-db1c-48d4-8225-2c5d1e391502"
      },
      "execution_count": 100,
      "outputs": [
        {
          "output_type": "stream",
          "name": "stdout",
          "text": [
            "[[3 4 5]\n",
            " [6 7 8]]\n"
          ]
        }
      ]
    },
    {
      "cell_type": "markdown",
      "source": [
        "**Minimum and Maximum in Array**"
      ],
      "metadata": {
        "id": "mxmbvgQrzk1i"
      }
    },
    {
      "cell_type": "code",
      "source": [
        "arr3.max()"
      ],
      "metadata": {
        "colab": {
          "base_uri": "https://localhost:8080/",
          "height": 0
        },
        "id": "wJUEiflfzUtz",
        "outputId": "3e08427d-68ce-4a82-c785-4a980aaff485"
      },
      "execution_count": 31,
      "outputs": [
        {
          "output_type": "execute_result",
          "data": {
            "text/plain": [
              "5"
            ]
          },
          "metadata": {},
          "execution_count": 31
        }
      ]
    },
    {
      "cell_type": "code",
      "source": [
        "arr3.min()"
      ],
      "metadata": {
        "colab": {
          "base_uri": "https://localhost:8080/",
          "height": 0
        },
        "id": "UPzUSfOfzs2D",
        "outputId": "90c5462d-0933-43d2-e3d9-63362ebb284e"
      },
      "execution_count": 32,
      "outputs": [
        {
          "output_type": "execute_result",
          "data": {
            "text/plain": [
              "0"
            ]
          },
          "metadata": {},
          "execution_count": 32
        }
      ]
    },
    {
      "cell_type": "code",
      "source": [
        "arr3"
      ],
      "metadata": {
        "colab": {
          "base_uri": "https://localhost:8080/",
          "height": 0
        },
        "id": "0dkkegA50IF7",
        "outputId": "6e3abfd0-635e-4720-b81a-e8f04d2c9453"
      },
      "execution_count": 35,
      "outputs": [
        {
          "output_type": "execute_result",
          "data": {
            "text/plain": [
              "array([[0, 1, 2],\n",
              "       [3, 4, 5]])"
            ]
          },
          "metadata": {},
          "execution_count": 35
        }
      ]
    },
    {
      "cell_type": "code",
      "source": [
        "#Check max on column wise ( All Max values of max column) Vertically\n",
        "arr3.max(axis=0)"
      ],
      "metadata": {
        "colab": {
          "base_uri": "https://localhost:8080/",
          "height": 0
        },
        "id": "O2BYSx_-0mIa",
        "outputId": "3e051390-4ebd-48d0-9471-37e193bba1d8"
      },
      "execution_count": 37,
      "outputs": [
        {
          "output_type": "execute_result",
          "data": {
            "text/plain": [
              "array([3, 4, 5])"
            ]
          },
          "metadata": {},
          "execution_count": 37
        }
      ]
    },
    {
      "cell_type": "code",
      "source": [
        "#Check min on Row wise (All minimum from Row) Horizontly`\n",
        "arr3.min(axis=1)"
      ],
      "metadata": {
        "colab": {
          "base_uri": "https://localhost:8080/",
          "height": 0
        },
        "id": "ppO3_9wd0FrD",
        "outputId": "bd7ed62d-56e3-4f3f-860b-358d5dc9ab0b"
      },
      "execution_count": 38,
      "outputs": [
        {
          "output_type": "execute_result",
          "data": {
            "text/plain": [
              "array([0, 3])"
            ]
          },
          "metadata": {},
          "execution_count": 38
        }
      ]
    },
    {
      "cell_type": "markdown",
      "source": [
        "**SUM of Arrays**"
      ],
      "metadata": {
        "id": "Tuz9zZpO1SXr"
      }
    },
    {
      "cell_type": "code",
      "source": [
        "arr3"
      ],
      "metadata": {
        "colab": {
          "base_uri": "https://localhost:8080/",
          "height": 0
        },
        "id": "qpN6coa20WvT",
        "outputId": "9fd84286-e95c-4f78-9999-6e4afc22d5c9"
      },
      "execution_count": 39,
      "outputs": [
        {
          "output_type": "execute_result",
          "data": {
            "text/plain": [
              "array([[0, 1, 2],\n",
              "       [3, 4, 5]])"
            ]
          },
          "metadata": {},
          "execution_count": 39
        }
      ]
    },
    {
      "cell_type": "code",
      "source": [
        "#All Elemets SUM\n",
        "arr3.sum()"
      ],
      "metadata": {
        "colab": {
          "base_uri": "https://localhost:8080/",
          "height": 0
        },
        "id": "yQZqP8sE1Wnk",
        "outputId": "aeac93b7-be1b-4bfb-ced0-ca9ebe0fbdcb"
      },
      "execution_count": 40,
      "outputs": [
        {
          "output_type": "execute_result",
          "data": {
            "text/plain": [
              "15"
            ]
          },
          "metadata": {},
          "execution_count": 40
        }
      ]
    },
    {
      "cell_type": "code",
      "source": [
        "#Only SUM COLUMN wise (Vertically)\n",
        "arr3.sum(axis=0)"
      ],
      "metadata": {
        "colab": {
          "base_uri": "https://localhost:8080/",
          "height": 0
        },
        "id": "FNi2yC101YTs",
        "outputId": "25db9059-0b3e-41f2-e3e3-35d5dcf133e0"
      },
      "execution_count": 42,
      "outputs": [
        {
          "output_type": "execute_result",
          "data": {
            "text/plain": [
              "array([3, 5, 7])"
            ]
          },
          "metadata": {},
          "execution_count": 42
        }
      ]
    },
    {
      "cell_type": "code",
      "source": [
        "#Only SUM ROW wise (Horizontly) if 2 row then give 2 elements\n",
        "arr3.sum(axis=1)"
      ],
      "metadata": {
        "colab": {
          "base_uri": "https://localhost:8080/",
          "height": 0
        },
        "id": "dK0ke2PG1hOs",
        "outputId": "d95466c4-59c4-4a8f-c2b4-5e825132efb0"
      },
      "execution_count": 44,
      "outputs": [
        {
          "output_type": "execute_result",
          "data": {
            "text/plain": [
              "array([ 3, 12])"
            ]
          },
          "metadata": {},
          "execution_count": 44
        }
      ]
    },
    {
      "cell_type": "code",
      "source": [
        "#The sum() built-in function , COLUMN wise sum\n",
        "total_sum=sum(arr3)\n",
        "print(total_sum)"
      ],
      "metadata": {
        "colab": {
          "base_uri": "https://localhost:8080/",
          "height": 0
        },
        "id": "uBCHDOhV2ETb",
        "outputId": "0ccdf9e4-b0af-4982-d8d6-6f5372c340a3"
      },
      "execution_count": 46,
      "outputs": [
        {
          "output_type": "stream",
          "name": "stdout",
          "text": [
            "[3 5 7]\n"
          ]
        }
      ]
    },
    {
      "cell_type": "code",
      "source": [
        "#If you again sum the it give row wise sum\n",
        "final_total=sum(sum(arr3))\n",
        "print(final_total)"
      ],
      "metadata": {
        "colab": {
          "base_uri": "https://localhost:8080/",
          "height": 0
        },
        "id": "Z_Ccc1BD2dF0",
        "outputId": "09eac28b-b83a-4403-b830-4a3faa76b8d7"
      },
      "execution_count": 48,
      "outputs": [
        {
          "output_type": "stream",
          "name": "stdout",
          "text": [
            "15\n"
          ]
        }
      ]
    },
    {
      "cell_type": "markdown",
      "source": [
        "**Measure of Central Tendency (Mean, Median, Mode)**\n",
        "Unary Operation like min max sum\n"
      ],
      "metadata": {
        "id": "FTO-n46P3Fkr"
      }
    },
    {
      "cell_type": "code",
      "source": [
        "arr3"
      ],
      "metadata": {
        "colab": {
          "base_uri": "https://localhost:8080/",
          "height": 0
        },
        "id": "xNnLcD3z2s70",
        "outputId": "5de3a59d-769f-4d8a-ed40-580090062929"
      },
      "execution_count": 49,
      "outputs": [
        {
          "output_type": "execute_result",
          "data": {
            "text/plain": [
              "array([[0, 1, 2],\n",
              "       [3, 4, 5]])"
            ]
          },
          "metadata": {},
          "execution_count": 49
        }
      ]
    },
    {
      "cell_type": "code",
      "source": [
        "arr3.mean()"
      ],
      "metadata": {
        "colab": {
          "base_uri": "https://localhost:8080/",
          "height": 0
        },
        "id": "mD9jpAeX3Q0y",
        "outputId": "9c3c41e0-bf32-4666-c30d-95496c77a529"
      },
      "execution_count": 50,
      "outputs": [
        {
          "output_type": "execute_result",
          "data": {
            "text/plain": [
              "2.5"
            ]
          },
          "metadata": {},
          "execution_count": 50
        }
      ]
    },
    {
      "cell_type": "code",
      "source": [
        "#Check Row wise\n",
        "arr3.mean(axis=1)"
      ],
      "metadata": {
        "colab": {
          "base_uri": "https://localhost:8080/",
          "height": 0
        },
        "id": "FzwV8g9C3TCM",
        "outputId": "92e486cb-d2b0-433e-cf4d-baf668d90269"
      },
      "execution_count": 61,
      "outputs": [
        {
          "output_type": "execute_result",
          "data": {
            "text/plain": [
              "array([1., 4.])"
            ]
          },
          "metadata": {},
          "execution_count": 61
        }
      ]
    },
    {
      "cell_type": "code",
      "source": [
        "#there is no median in array but in numpy class so,\n",
        "#Explicitly call it\n",
        "np.median(arr3)"
      ],
      "metadata": {
        "colab": {
          "base_uri": "https://localhost:8080/",
          "height": 0
        },
        "id": "4QdeyGLs3Uvk",
        "outputId": "d462aecb-124c-439b-c4c9-d7a40bfecf43"
      },
      "execution_count": 62,
      "outputs": [
        {
          "output_type": "execute_result",
          "data": {
            "text/plain": [
              "2.5"
            ]
          },
          "metadata": {},
          "execution_count": 62
        }
      ]
    },
    {
      "cell_type": "code",
      "source": [
        "np.median(arr3)"
      ],
      "metadata": {
        "colab": {
          "base_uri": "https://localhost:8080/",
          "height": 0
        },
        "id": "ro3MPCAu3gIj",
        "outputId": "77284e41-961c-499e-b080-4100d1f01412"
      },
      "execution_count": 65,
      "outputs": [
        {
          "output_type": "execute_result",
          "data": {
            "text/plain": [
              "2.5"
            ]
          },
          "metadata": {},
          "execution_count": 65
        }
      ]
    },
    {
      "cell_type": "code",
      "source": [
        "#Mode is not in numpy, it is statistic library of scipy\n",
        "from scipy import stats\n",
        "arr4=np.array([10,10,2,3,4,5])\n",
        "#To eliminate dimension we have keepdims parameter False\n",
        "mode=stats.mode(arr4,keepdims=False)\n",
        "print(mode)"
      ],
      "metadata": {
        "colab": {
          "base_uri": "https://localhost:8080/",
          "height": 0
        },
        "id": "5g7eiH8q4ZuT",
        "outputId": "067e4380-f938-4416-c03b-8283eeb57f2f"
      },
      "execution_count": 78,
      "outputs": [
        {
          "output_type": "stream",
          "name": "stdout",
          "text": [
            "ModeResult(mode=10, count=2)\n"
          ]
        }
      ]
    },
    {
      "cell_type": "markdown",
      "source": [
        "Standalone functions: np.array ,\n",
        "\n",
        "```\n",
        "# some functions direclt in Numpy but some have need of array object.\n",
        "```\n",
        "\n",
        "np.arange, np.median\n",
        "Array Methods: arr.sum() , arr.copy()"
      ],
      "metadata": {
        "id": "Mu3Hlk2h6FWL"
      }
    },
    {
      "cell_type": "markdown",
      "source": [
        "**UNIVERSAL FUNCTIONS**\n",
        " provide a convenient way to perform mathematical operations on entire arrays without the need for explicit loops"
      ],
      "metadata": {
        "id": "Z6BzQAHQ-ApO"
      }
    },
    {
      "cell_type": "code",
      "source": [
        "#Here we take another simple array\n",
        "arr6=np.array([2,4,6,8])\n"
      ],
      "metadata": {
        "id": "qNFv8N6N6UKd"
      },
      "execution_count": 101,
      "outputs": []
    },
    {
      "cell_type": "code",
      "source": [
        "#Square root of all element present in array\n",
        "np.sqrt(arr6)"
      ],
      "metadata": {
        "colab": {
          "base_uri": "https://localhost:8080/",
          "height": 0
        },
        "id": "iLpangWB-b3l",
        "outputId": "704f62e6-fa11-4216-b10b-b5aa68d3beba"
      },
      "execution_count": 106,
      "outputs": [
        {
          "output_type": "execute_result",
          "data": {
            "text/plain": [
              "array([1.41421356, 2.        , 2.44948974, 2.82842712])"
            ]
          },
          "metadata": {},
          "execution_count": 106
        }
      ]
    },
    {
      "cell_type": "code",
      "source": [
        "#When you want to store output result in different variable\n",
        "#create like array of that output variable\n",
        "arr = np.array([4, 9, 16])\n",
        "result_arr = np.empty_like(arr).astype(np.float64)  # Create an empty array of the same shape as arr\n",
        "#but see you have to change its type because sqrt will give result in float\n",
        "np.sqrt(arr, out=result_arr)"
      ],
      "metadata": {
        "colab": {
          "base_uri": "https://localhost:8080/",
          "height": 0
        },
        "id": "dgb4hDpD-ddV",
        "outputId": "8265d9ad-fcc1-4dd5-efaf-d6829b5da949"
      },
      "execution_count": 110,
      "outputs": [
        {
          "output_type": "execute_result",
          "data": {
            "text/plain": [
              "array([2., 3., 4.])"
            ]
          },
          "metadata": {},
          "execution_count": 110
        }
      ]
    },
    {
      "cell_type": "code",
      "source": [
        "#Exponential of all elements\n",
        "np.exp(arr6)"
      ],
      "metadata": {
        "colab": {
          "base_uri": "https://localhost:8080/",
          "height": 0
        },
        "id": "hIz559Bi_rhs",
        "outputId": "eb3a43f7-b888-4d14-c26f-c993a026714b"
      },
      "execution_count": 112,
      "outputs": [
        {
          "output_type": "execute_result",
          "data": {
            "text/plain": [
              "array([   7.3890561 ,   54.59815003,  403.42879349, 2980.95798704])"
            ]
          },
          "metadata": {},
          "execution_count": 112
        }
      ]
    },
    {
      "cell_type": "code",
      "source": [
        "#sin and cos of elements\n",
        "np.sin(arr6)"
      ],
      "metadata": {
        "colab": {
          "base_uri": "https://localhost:8080/",
          "height": 0
        },
        "id": "chWzpwUIAOgt",
        "outputId": "e5e1559d-b162-4a0e-d52e-60611900fa05"
      },
      "execution_count": 113,
      "outputs": [
        {
          "output_type": "execute_result",
          "data": {
            "text/plain": [
              "array([ 0.90929743, -0.7568025 , -0.2794155 ,  0.98935825])"
            ]
          },
          "metadata": {},
          "execution_count": 113
        }
      ]
    },
    {
      "cell_type": "code",
      "source": [
        "np.cos(arr6)"
      ],
      "metadata": {
        "colab": {
          "base_uri": "https://localhost:8080/",
          "height": 0
        },
        "id": "QCM-kKDNAVGF",
        "outputId": "bd431e2a-75a1-4c5a-845d-c5c5a0db1c92"
      },
      "execution_count": 114,
      "outputs": [
        {
          "output_type": "execute_result",
          "data": {
            "text/plain": [
              "array([-0.41614684, -0.65364362,  0.96017029, -0.14550003])"
            ]
          },
          "metadata": {},
          "execution_count": 114
        }
      ]
    },
    {
      "cell_type": "markdown",
      "source": [
        "**Shape Manipulation : reshaping, resizing**"
      ],
      "metadata": {
        "id": "hkQxx1dYBB21"
      }
    },
    {
      "cell_type": "code",
      "source": [
        "#1) RESHAPE (row,column)\n",
        "#change reshape ( 2,6) (6,2) (12,1)\n",
        "arr7=np.arange(12).reshape(6,2)\n",
        "arr7"
      ],
      "metadata": {
        "colab": {
          "base_uri": "https://localhost:8080/",
          "height": 0
        },
        "id": "YOGCHO1oAc_N",
        "outputId": "85434857-93dd-444a-f92e-8f2e7fb1f5fd"
      },
      "execution_count": 117,
      "outputs": [
        {
          "output_type": "execute_result",
          "data": {
            "text/plain": [
              "array([[ 0,  1],\n",
              "       [ 2,  3],\n",
              "       [ 4,  5],\n",
              "       [ 6,  7],\n",
              "       [ 8,  9],\n",
              "       [10, 11]])"
            ]
          },
          "metadata": {},
          "execution_count": 117
        }
      ]
    },
    {
      "cell_type": "code",
      "source": [
        "#2) RESIZE (fit , truncate data)\n",
        "arr8=np.array([1,2,3,4])\n",
        "np.resize(arr8,(2,2))"
      ],
      "metadata": {
        "colab": {
          "base_uri": "https://localhost:8080/",
          "height": 0
        },
        "id": "YCUlBfQuBemd",
        "outputId": "4bdafb4c-ce84-479e-d639-dc9187868524"
      },
      "execution_count": 118,
      "outputs": [
        {
          "output_type": "execute_result",
          "data": {
            "text/plain": [
              "array([[1, 2],\n",
              "       [3, 4]])"
            ]
          },
          "metadata": {},
          "execution_count": 118
        }
      ]
    },
    {
      "cell_type": "code",
      "source": [
        "#2.1) RESIZE (Total 9 Items)\n",
        "arr9=np.array([1,2,3,4,5,6,7,8,9])\n",
        "arr9.size"
      ],
      "metadata": {
        "colab": {
          "base_uri": "https://localhost:8080/",
          "height": 0
        },
        "id": "Y76azfmGB_JF",
        "outputId": "52c5715d-2ce4-47c2-dac6-0b4e6b01f90c"
      },
      "execution_count": 119,
      "outputs": [
        {
          "output_type": "execute_result",
          "data": {
            "text/plain": [
              "9"
            ]
          },
          "metadata": {},
          "execution_count": 119
        }
      ]
    },
    {
      "cell_type": "code",
      "source": [
        "#NOW Change it to 10, it will add first element\n",
        "np.resize(arr9,(10,))"
      ],
      "metadata": {
        "colab": {
          "base_uri": "https://localhost:8080/",
          "height": 0
        },
        "id": "YBGUyJH3CI-E",
        "outputId": "213ad511-7e53-4234-ef2d-109447c5feaa"
      },
      "execution_count": 120,
      "outputs": [
        {
          "output_type": "execute_result",
          "data": {
            "text/plain": [
              "array([1, 2, 3, 4, 5, 6, 7, 8, 9, 1])"
            ]
          },
          "metadata": {},
          "execution_count": 120
        }
      ]
    },
    {
      "cell_type": "code",
      "source": [
        "#2.2) NOW Change it 20, see\n",
        "np.resize(arr9,(20))"
      ],
      "metadata": {
        "colab": {
          "base_uri": "https://localhost:8080/",
          "height": 0
        },
        "id": "1vpeZW_JCPAF",
        "outputId": "5ea5ac4a-8532-4ad0-ef1d-538b6c43fb4b"
      },
      "execution_count": 121,
      "outputs": [
        {
          "output_type": "execute_result",
          "data": {
            "text/plain": [
              "array([1, 2, 3, 4, 5, 6, 7, 8, 9, 1, 2, 3, 4, 5, 6, 7, 8, 9, 1, 2])"
            ]
          },
          "metadata": {},
          "execution_count": 121
        }
      ]
    },
    {
      "cell_type": "code",
      "source": [
        "#3) Flatten : as name\n",
        "arr10=np.arange(10).reshape(5,2)\n",
        "arr10\n",
        "#its dimension is 2D"
      ],
      "metadata": {
        "colab": {
          "base_uri": "https://localhost:8080/",
          "height": 0
        },
        "id": "dXEvTiahCcbF",
        "outputId": "5bcd812d-1374-416d-c62e-7bdd0b4a02d4"
      },
      "execution_count": 124,
      "outputs": [
        {
          "output_type": "execute_result",
          "data": {
            "text/plain": [
              "array([[0, 1],\n",
              "       [2, 3],\n",
              "       [4, 5],\n",
              "       [6, 7],\n",
              "       [8, 9]])"
            ]
          },
          "metadata": {},
          "execution_count": 124
        }
      ]
    },
    {
      "cell_type": "code",
      "source": [
        "#we can change all 2D and 3D dimension into 1D like flat\n",
        "arr10.flatten()"
      ],
      "metadata": {
        "colab": {
          "base_uri": "https://localhost:8080/",
          "height": 0
        },
        "id": "wXOcj7tYC_2d",
        "outputId": "11c752ff-82df-419a-bd41-c4b7e34b6749"
      },
      "execution_count": 127,
      "outputs": [
        {
          "output_type": "execute_result",
          "data": {
            "text/plain": [
              "array([0, 1, 2, 3, 4, 5, 6, 7, 8, 9])"
            ]
          },
          "metadata": {},
          "execution_count": 127
        }
      ]
    },
    {
      "cell_type": "code",
      "source": [
        "#4) Transposing Array 2D or 3D\n",
        "#here we take another array\n",
        "#row 2 , column 5\n",
        "#after transpose\n",
        "#row to col, col to row"
      ],
      "metadata": {
        "id": "Uah01TtWDJJd"
      },
      "execution_count": 129,
      "outputs": []
    },
    {
      "cell_type": "code",
      "source": [
        "arr11=np.arange(10).reshape(2,5)\n",
        "arr11"
      ],
      "metadata": {
        "colab": {
          "base_uri": "https://localhost:8080/",
          "height": 0
        },
        "id": "TZ90tTAkDuhu",
        "outputId": "9dc4bae3-c4c4-4e4f-f6b3-d40cc019a033"
      },
      "execution_count": 131,
      "outputs": [
        {
          "output_type": "execute_result",
          "data": {
            "text/plain": [
              "array([[0, 1, 2, 3, 4],\n",
              "       [5, 6, 7, 8, 9]])"
            ]
          },
          "metadata": {},
          "execution_count": 131
        }
      ]
    },
    {
      "cell_type": "code",
      "source": [
        "#NOW TRANSPOSE with 2 Methods\n",
        "# 1- Array Method\n",
        "arr11.T\n"
      ],
      "metadata": {
        "colab": {
          "base_uri": "https://localhost:8080/",
          "height": 0
        },
        "id": "avBAeXgnD-UW",
        "outputId": "8153f550-b6b1-469b-935c-c00338ae75a6"
      },
      "execution_count": 132,
      "outputs": [
        {
          "output_type": "execute_result",
          "data": {
            "text/plain": [
              "array([[0, 5],\n",
              "       [1, 6],\n",
              "       [2, 7],\n",
              "       [3, 8],\n",
              "       [4, 9]])"
            ]
          },
          "metadata": {},
          "execution_count": 132
        }
      ]
    },
    {
      "cell_type": "code",
      "source": [
        "arr11"
      ],
      "metadata": {
        "colab": {
          "base_uri": "https://localhost:8080/",
          "height": 0
        },
        "id": "wZ3rnVIJEHwd",
        "outputId": "abfb02db-8d3f-4d70-e711-3a6bad811e0c"
      },
      "execution_count": 133,
      "outputs": [
        {
          "output_type": "execute_result",
          "data": {
            "text/plain": [
              "array([[0, 1, 2, 3, 4],\n",
              "       [5, 6, 7, 8, 9]])"
            ]
          },
          "metadata": {},
          "execution_count": 133
        }
      ]
    },
    {
      "cell_type": "code",
      "source": [
        "#2 -Standalone Functions\n",
        "np.transpose(arr11)"
      ],
      "metadata": {
        "colab": {
          "base_uri": "https://localhost:8080/",
          "height": 0
        },
        "id": "o8xpbbNLESqF",
        "outputId": "474edf83-4c49-4d0c-fdc7-ad8009ac16b5"
      },
      "execution_count": 135,
      "outputs": [
        {
          "output_type": "execute_result",
          "data": {
            "text/plain": [
              "array([[0, 5],\n",
              "       [1, 6],\n",
              "       [2, 7],\n",
              "       [3, 8],\n",
              "       [4, 9]])"
            ]
          },
          "metadata": {},
          "execution_count": 135
        }
      ]
    },
    {
      "cell_type": "code",
      "source": [
        "#Same ther is one more function like flatten called ravel\n",
        "#actually it convert all higher dimension to 1D\n",
        "arr11.ravel()"
      ],
      "metadata": {
        "colab": {
          "base_uri": "https://localhost:8080/",
          "height": 0
        },
        "id": "5QE6Ge04EVPU",
        "outputId": "6b3f104d-b416-4729-b08f-7f676d758855"
      },
      "execution_count": 136,
      "outputs": [
        {
          "output_type": "execute_result",
          "data": {
            "text/plain": [
              "array([0, 1, 2, 3, 4, 5, 6, 7, 8, 9])"
            ]
          },
          "metadata": {},
          "execution_count": 136
        }
      ]
    },
    {
      "cell_type": "code",
      "source": [
        "#Eg Take 3D array\n",
        "arr12=np.arange(100).reshape(2,2,25)\n",
        "arr13=np.arange(200).reshape(2,2,2,25\n",
        ")"
      ],
      "metadata": {
        "id": "DKqbMKt_FBZN"
      },
      "execution_count": 139,
      "outputs": []
    },
    {
      "cell_type": "code",
      "source": [
        "arr12"
      ],
      "metadata": {
        "colab": {
          "base_uri": "https://localhost:8080/",
          "height": 0
        },
        "id": "E5QWXed_FR3l",
        "outputId": "faf68601-ef43-4830-b76c-44bfeb2b6f22"
      },
      "execution_count": 140,
      "outputs": [
        {
          "output_type": "execute_result",
          "data": {
            "text/plain": [
              "array([[[ 0,  1,  2,  3,  4,  5,  6,  7,  8,  9, 10, 11, 12, 13, 14, 15,\n",
              "         16, 17, 18, 19, 20, 21, 22, 23, 24],\n",
              "        [25, 26, 27, 28, 29, 30, 31, 32, 33, 34, 35, 36, 37, 38, 39, 40,\n",
              "         41, 42, 43, 44, 45, 46, 47, 48, 49]],\n",
              "\n",
              "       [[50, 51, 52, 53, 54, 55, 56, 57, 58, 59, 60, 61, 62, 63, 64, 65,\n",
              "         66, 67, 68, 69, 70, 71, 72, 73, 74],\n",
              "        [75, 76, 77, 78, 79, 80, 81, 82, 83, 84, 85, 86, 87, 88, 89, 90,\n",
              "         91, 92, 93, 94, 95, 96, 97, 98, 99]]])"
            ]
          },
          "metadata": {},
          "execution_count": 140
        }
      ]
    },
    {
      "cell_type": "code",
      "source": [
        "arr13"
      ],
      "metadata": {
        "colab": {
          "base_uri": "https://localhost:8080/",
          "height": 0
        },
        "id": "w8iiWQTeFeDV",
        "outputId": "196f67ca-7ef3-4fcb-bbb3-d65bd3f789a5"
      },
      "execution_count": 141,
      "outputs": [
        {
          "output_type": "execute_result",
          "data": {
            "text/plain": [
              "array([[[[  0,   1,   2,   3,   4,   5,   6,   7,   8,   9,  10,  11,\n",
              "           12,  13,  14,  15,  16,  17,  18,  19,  20,  21,  22,  23,\n",
              "           24],\n",
              "         [ 25,  26,  27,  28,  29,  30,  31,  32,  33,  34,  35,  36,\n",
              "           37,  38,  39,  40,  41,  42,  43,  44,  45,  46,  47,  48,\n",
              "           49]],\n",
              "\n",
              "        [[ 50,  51,  52,  53,  54,  55,  56,  57,  58,  59,  60,  61,\n",
              "           62,  63,  64,  65,  66,  67,  68,  69,  70,  71,  72,  73,\n",
              "           74],\n",
              "         [ 75,  76,  77,  78,  79,  80,  81,  82,  83,  84,  85,  86,\n",
              "           87,  88,  89,  90,  91,  92,  93,  94,  95,  96,  97,  98,\n",
              "           99]]],\n",
              "\n",
              "\n",
              "       [[[100, 101, 102, 103, 104, 105, 106, 107, 108, 109, 110, 111,\n",
              "          112, 113, 114, 115, 116, 117, 118, 119, 120, 121, 122, 123,\n",
              "          124],\n",
              "         [125, 126, 127, 128, 129, 130, 131, 132, 133, 134, 135, 136,\n",
              "          137, 138, 139, 140, 141, 142, 143, 144, 145, 146, 147, 148,\n",
              "          149]],\n",
              "\n",
              "        [[150, 151, 152, 153, 154, 155, 156, 157, 158, 159, 160, 161,\n",
              "          162, 163, 164, 165, 166, 167, 168, 169, 170, 171, 172, 173,\n",
              "          174],\n",
              "         [175, 176, 177, 178, 179, 180, 181, 182, 183, 184, 185, 186,\n",
              "          187, 188, 189, 190, 191, 192, 193, 194, 195, 196, 197, 198,\n",
              "          199]]]])"
            ]
          },
          "metadata": {},
          "execution_count": 141
        }
      ]
    },
    {
      "cell_type": "code",
      "source": [
        "#arr12 is 2D array and arr13 is 4D array\n",
        "#now with flatten () function\n",
        "arr13.flatten()"
      ],
      "metadata": {
        "colab": {
          "base_uri": "https://localhost:8080/",
          "height": 0
        },
        "id": "isi_hnaAFfD1",
        "outputId": "a1a82697-903b-4952-c5cc-a7cf3ac3a368"
      },
      "execution_count": 147,
      "outputs": [
        {
          "output_type": "execute_result",
          "data": {
            "text/plain": [
              "array([  0,   1,   2,   3,   4,   5,   6,   7,   8,   9,  10,  11,  12,\n",
              "        13,  14,  15,  16,  17,  18,  19,  20,  21,  22,  23,  24,  25,\n",
              "        26,  27,  28,  29,  30,  31,  32,  33,  34,  35,  36,  37,  38,\n",
              "        39,  40,  41,  42,  43,  44,  45,  46,  47,  48,  49,  50,  51,\n",
              "        52,  53,  54,  55,  56,  57,  58,  59,  60,  61,  62,  63,  64,\n",
              "        65,  66,  67,  68,  69,  70,  71,  72,  73,  74,  75,  76,  77,\n",
              "        78,  79,  80,  81,  82,  83,  84,  85,  86,  87,  88,  89,  90,\n",
              "        91,  92,  93,  94,  95,  96,  97,  98,  99, 100, 101, 102, 103,\n",
              "       104, 105, 106, 107, 108, 109, 110, 111, 112, 113, 114, 115, 116,\n",
              "       117, 118, 119, 120, 121, 122, 123, 124, 125, 126, 127, 128, 129,\n",
              "       130, 131, 132, 133, 134, 135, 136, 137, 138, 139, 140, 141, 142,\n",
              "       143, 144, 145, 146, 147, 148, 149, 150, 151, 152, 153, 154, 155,\n",
              "       156, 157, 158, 159, 160, 161, 162, 163, 164, 165, 166, 167, 168,\n",
              "       169, 170, 171, 172, 173, 174, 175, 176, 177, 178, 179, 180, 181,\n",
              "       182, 183, 184, 185, 186, 187, 188, 189, 190, 191, 192, 193, 194,\n",
              "       195, 196, 197, 198, 199])"
            ]
          },
          "metadata": {},
          "execution_count": 147
        }
      ]
    },
    {
      "cell_type": "code",
      "source": [
        "arr13.ravel()"
      ],
      "metadata": {
        "colab": {
          "base_uri": "https://localhost:8080/",
          "height": 0
        },
        "id": "3Gg7JqF3Fnnt",
        "outputId": "a8c0f4d6-fc69-4bcb-d74a-cb485a010319"
      },
      "execution_count": 148,
      "outputs": [
        {
          "output_type": "execute_result",
          "data": {
            "text/plain": [
              "array([  0,   1,   2,   3,   4,   5,   6,   7,   8,   9,  10,  11,  12,\n",
              "        13,  14,  15,  16,  17,  18,  19,  20,  21,  22,  23,  24,  25,\n",
              "        26,  27,  28,  29,  30,  31,  32,  33,  34,  35,  36,  37,  38,\n",
              "        39,  40,  41,  42,  43,  44,  45,  46,  47,  48,  49,  50,  51,\n",
              "        52,  53,  54,  55,  56,  57,  58,  59,  60,  61,  62,  63,  64,\n",
              "        65,  66,  67,  68,  69,  70,  71,  72,  73,  74,  75,  76,  77,\n",
              "        78,  79,  80,  81,  82,  83,  84,  85,  86,  87,  88,  89,  90,\n",
              "        91,  92,  93,  94,  95,  96,  97,  98,  99, 100, 101, 102, 103,\n",
              "       104, 105, 106, 107, 108, 109, 110, 111, 112, 113, 114, 115, 116,\n",
              "       117, 118, 119, 120, 121, 122, 123, 124, 125, 126, 127, 128, 129,\n",
              "       130, 131, 132, 133, 134, 135, 136, 137, 138, 139, 140, 141, 142,\n",
              "       143, 144, 145, 146, 147, 148, 149, 150, 151, 152, 153, 154, 155,\n",
              "       156, 157, 158, 159, 160, 161, 162, 163, 164, 165, 166, 167, 168,\n",
              "       169, 170, 171, 172, 173, 174, 175, 176, 177, 178, 179, 180, 181,\n",
              "       182, 183, 184, 185, 186, 187, 188, 189, 190, 191, 192, 193, 194,\n",
              "       195, 196, 197, 198, 199])"
            ]
          },
          "metadata": {},
          "execution_count": 148
        }
      ]
    },
    {
      "cell_type": "code",
      "source": [
        "#check both size is same 200\n",
        "#now ffor arr12\n",
        "arr12.flatten()"
      ],
      "metadata": {
        "colab": {
          "base_uri": "https://localhost:8080/",
          "height": 0
        },
        "id": "2KAbyteaFrhd",
        "outputId": "459b76ff-f476-4304-83fe-5bd9eba50bd1"
      },
      "execution_count": 151,
      "outputs": [
        {
          "output_type": "execute_result",
          "data": {
            "text/plain": [
              "array([ 0,  1,  2,  3,  4,  5,  6,  7,  8,  9, 10, 11, 12, 13, 14, 15, 16,\n",
              "       17, 18, 19, 20, 21, 22, 23, 24, 25, 26, 27, 28, 29, 30, 31, 32, 33,\n",
              "       34, 35, 36, 37, 38, 39, 40, 41, 42, 43, 44, 45, 46, 47, 48, 49, 50,\n",
              "       51, 52, 53, 54, 55, 56, 57, 58, 59, 60, 61, 62, 63, 64, 65, 66, 67,\n",
              "       68, 69, 70, 71, 72, 73, 74, 75, 76, 77, 78, 79, 80, 81, 82, 83, 84,\n",
              "       85, 86, 87, 88, 89, 90, 91, 92, 93, 94, 95, 96, 97, 98, 99])"
            ]
          },
          "metadata": {},
          "execution_count": 151
        }
      ]
    },
    {
      "cell_type": "code",
      "source": [
        "arr12.ravel()"
      ],
      "metadata": {
        "colab": {
          "base_uri": "https://localhost:8080/",
          "height": 0
        },
        "id": "RMVwQGaPF1b9",
        "outputId": "5886326c-0cd8-487d-cf7f-442350ba82f4"
      },
      "execution_count": 152,
      "outputs": [
        {
          "output_type": "execute_result",
          "data": {
            "text/plain": [
              "array([ 0,  1,  2,  3,  4,  5,  6,  7,  8,  9, 10, 11, 12, 13, 14, 15, 16,\n",
              "       17, 18, 19, 20, 21, 22, 23, 24, 25, 26, 27, 28, 29, 30, 31, 32, 33,\n",
              "       34, 35, 36, 37, 38, 39, 40, 41, 42, 43, 44, 45, 46, 47, 48, 49, 50,\n",
              "       51, 52, 53, 54, 55, 56, 57, 58, 59, 60, 61, 62, 63, 64, 65, 66, 67,\n",
              "       68, 69, 70, 71, 72, 73, 74, 75, 76, 77, 78, 79, 80, 81, 82, 83, 84,\n",
              "       85, 86, 87, 88, 89, 90, 91, 92, 93, 94, 95, 96, 97, 98, 99])"
            ]
          },
          "metadata": {},
          "execution_count": 152
        }
      ]
    },
    {
      "cell_type": "code",
      "source": [
        "#now one other for loop with nditer\n",
        "#its iteration actually\n",
        "it=np.nditer(arr12)\n",
        "for i in it:\n",
        "  print(i)"
      ],
      "metadata": {
        "colab": {
          "base_uri": "https://localhost:8080/",
          "height": 0
        },
        "id": "eRZhOnOPF7ZF",
        "outputId": "9a45f0c1-d274-4c2e-bc35-f8a69ad839da"
      },
      "execution_count": 154,
      "outputs": [
        {
          "output_type": "stream",
          "name": "stdout",
          "text": [
            "0\n",
            "1\n",
            "2\n",
            "3\n",
            "4\n",
            "5\n",
            "6\n",
            "7\n",
            "8\n",
            "9\n",
            "10\n",
            "11\n",
            "12\n",
            "13\n",
            "14\n",
            "15\n",
            "16\n",
            "17\n",
            "18\n",
            "19\n",
            "20\n",
            "21\n",
            "22\n",
            "23\n",
            "24\n",
            "25\n",
            "26\n",
            "27\n",
            "28\n",
            "29\n",
            "30\n",
            "31\n",
            "32\n",
            "33\n",
            "34\n",
            "35\n",
            "36\n",
            "37\n",
            "38\n",
            "39\n",
            "40\n",
            "41\n",
            "42\n",
            "43\n",
            "44\n",
            "45\n",
            "46\n",
            "47\n",
            "48\n",
            "49\n",
            "50\n",
            "51\n",
            "52\n",
            "53\n",
            "54\n",
            "55\n",
            "56\n",
            "57\n",
            "58\n",
            "59\n",
            "60\n",
            "61\n",
            "62\n",
            "63\n",
            "64\n",
            "65\n",
            "66\n",
            "67\n",
            "68\n",
            "69\n",
            "70\n",
            "71\n",
            "72\n",
            "73\n",
            "74\n",
            "75\n",
            "76\n",
            "77\n",
            "78\n",
            "79\n",
            "80\n",
            "81\n",
            "82\n",
            "83\n",
            "84\n",
            "85\n",
            "86\n",
            "87\n",
            "88\n",
            "89\n",
            "90\n",
            "91\n",
            "92\n",
            "93\n",
            "94\n",
            "95\n",
            "96\n",
            "97\n",
            "98\n",
            "99\n"
          ]
        }
      ]
    },
    {
      "cell_type": "code",
      "source": [
        "#add any flags it jyst create end flags\n",
        "it=np.nditer(arr13,flags=['multi_index'])\n",
        "for i in it:\n",
        "  print([i,it.multi_index])"
      ],
      "metadata": {
        "colab": {
          "base_uri": "https://localhost:8080/",
          "height": 0
        },
        "id": "-Ka6fGrhGIpN",
        "outputId": "24e74ea2-9b8a-4a7b-e7c0-d8ccc1ed9542"
      },
      "execution_count": 156,
      "outputs": [
        {
          "output_type": "stream",
          "name": "stdout",
          "text": [
            "[array(0), (0, 0, 0, 0)]\n",
            "[array(1), (0, 0, 0, 1)]\n",
            "[array(2), (0, 0, 0, 2)]\n",
            "[array(3), (0, 0, 0, 3)]\n",
            "[array(4), (0, 0, 0, 4)]\n",
            "[array(5), (0, 0, 0, 5)]\n",
            "[array(6), (0, 0, 0, 6)]\n",
            "[array(7), (0, 0, 0, 7)]\n",
            "[array(8), (0, 0, 0, 8)]\n",
            "[array(9), (0, 0, 0, 9)]\n",
            "[array(10), (0, 0, 0, 10)]\n",
            "[array(11), (0, 0, 0, 11)]\n",
            "[array(12), (0, 0, 0, 12)]\n",
            "[array(13), (0, 0, 0, 13)]\n",
            "[array(14), (0, 0, 0, 14)]\n",
            "[array(15), (0, 0, 0, 15)]\n",
            "[array(16), (0, 0, 0, 16)]\n",
            "[array(17), (0, 0, 0, 17)]\n",
            "[array(18), (0, 0, 0, 18)]\n",
            "[array(19), (0, 0, 0, 19)]\n",
            "[array(20), (0, 0, 0, 20)]\n",
            "[array(21), (0, 0, 0, 21)]\n",
            "[array(22), (0, 0, 0, 22)]\n",
            "[array(23), (0, 0, 0, 23)]\n",
            "[array(24), (0, 0, 0, 24)]\n",
            "[array(25), (0, 0, 1, 0)]\n",
            "[array(26), (0, 0, 1, 1)]\n",
            "[array(27), (0, 0, 1, 2)]\n",
            "[array(28), (0, 0, 1, 3)]\n",
            "[array(29), (0, 0, 1, 4)]\n",
            "[array(30), (0, 0, 1, 5)]\n",
            "[array(31), (0, 0, 1, 6)]\n",
            "[array(32), (0, 0, 1, 7)]\n",
            "[array(33), (0, 0, 1, 8)]\n",
            "[array(34), (0, 0, 1, 9)]\n",
            "[array(35), (0, 0, 1, 10)]\n",
            "[array(36), (0, 0, 1, 11)]\n",
            "[array(37), (0, 0, 1, 12)]\n",
            "[array(38), (0, 0, 1, 13)]\n",
            "[array(39), (0, 0, 1, 14)]\n",
            "[array(40), (0, 0, 1, 15)]\n",
            "[array(41), (0, 0, 1, 16)]\n",
            "[array(42), (0, 0, 1, 17)]\n",
            "[array(43), (0, 0, 1, 18)]\n",
            "[array(44), (0, 0, 1, 19)]\n",
            "[array(45), (0, 0, 1, 20)]\n",
            "[array(46), (0, 0, 1, 21)]\n",
            "[array(47), (0, 0, 1, 22)]\n",
            "[array(48), (0, 0, 1, 23)]\n",
            "[array(49), (0, 0, 1, 24)]\n",
            "[array(50), (0, 1, 0, 0)]\n",
            "[array(51), (0, 1, 0, 1)]\n",
            "[array(52), (0, 1, 0, 2)]\n",
            "[array(53), (0, 1, 0, 3)]\n",
            "[array(54), (0, 1, 0, 4)]\n",
            "[array(55), (0, 1, 0, 5)]\n",
            "[array(56), (0, 1, 0, 6)]\n",
            "[array(57), (0, 1, 0, 7)]\n",
            "[array(58), (0, 1, 0, 8)]\n",
            "[array(59), (0, 1, 0, 9)]\n",
            "[array(60), (0, 1, 0, 10)]\n",
            "[array(61), (0, 1, 0, 11)]\n",
            "[array(62), (0, 1, 0, 12)]\n",
            "[array(63), (0, 1, 0, 13)]\n",
            "[array(64), (0, 1, 0, 14)]\n",
            "[array(65), (0, 1, 0, 15)]\n",
            "[array(66), (0, 1, 0, 16)]\n",
            "[array(67), (0, 1, 0, 17)]\n",
            "[array(68), (0, 1, 0, 18)]\n",
            "[array(69), (0, 1, 0, 19)]\n",
            "[array(70), (0, 1, 0, 20)]\n",
            "[array(71), (0, 1, 0, 21)]\n",
            "[array(72), (0, 1, 0, 22)]\n",
            "[array(73), (0, 1, 0, 23)]\n",
            "[array(74), (0, 1, 0, 24)]\n",
            "[array(75), (0, 1, 1, 0)]\n",
            "[array(76), (0, 1, 1, 1)]\n",
            "[array(77), (0, 1, 1, 2)]\n",
            "[array(78), (0, 1, 1, 3)]\n",
            "[array(79), (0, 1, 1, 4)]\n",
            "[array(80), (0, 1, 1, 5)]\n",
            "[array(81), (0, 1, 1, 6)]\n",
            "[array(82), (0, 1, 1, 7)]\n",
            "[array(83), (0, 1, 1, 8)]\n",
            "[array(84), (0, 1, 1, 9)]\n",
            "[array(85), (0, 1, 1, 10)]\n",
            "[array(86), (0, 1, 1, 11)]\n",
            "[array(87), (0, 1, 1, 12)]\n",
            "[array(88), (0, 1, 1, 13)]\n",
            "[array(89), (0, 1, 1, 14)]\n",
            "[array(90), (0, 1, 1, 15)]\n",
            "[array(91), (0, 1, 1, 16)]\n",
            "[array(92), (0, 1, 1, 17)]\n",
            "[array(93), (0, 1, 1, 18)]\n",
            "[array(94), (0, 1, 1, 19)]\n",
            "[array(95), (0, 1, 1, 20)]\n",
            "[array(96), (0, 1, 1, 21)]\n",
            "[array(97), (0, 1, 1, 22)]\n",
            "[array(98), (0, 1, 1, 23)]\n",
            "[array(99), (0, 1, 1, 24)]\n",
            "[array(100), (1, 0, 0, 0)]\n",
            "[array(101), (1, 0, 0, 1)]\n",
            "[array(102), (1, 0, 0, 2)]\n",
            "[array(103), (1, 0, 0, 3)]\n",
            "[array(104), (1, 0, 0, 4)]\n",
            "[array(105), (1, 0, 0, 5)]\n",
            "[array(106), (1, 0, 0, 6)]\n",
            "[array(107), (1, 0, 0, 7)]\n",
            "[array(108), (1, 0, 0, 8)]\n",
            "[array(109), (1, 0, 0, 9)]\n",
            "[array(110), (1, 0, 0, 10)]\n",
            "[array(111), (1, 0, 0, 11)]\n",
            "[array(112), (1, 0, 0, 12)]\n",
            "[array(113), (1, 0, 0, 13)]\n",
            "[array(114), (1, 0, 0, 14)]\n",
            "[array(115), (1, 0, 0, 15)]\n",
            "[array(116), (1, 0, 0, 16)]\n",
            "[array(117), (1, 0, 0, 17)]\n",
            "[array(118), (1, 0, 0, 18)]\n",
            "[array(119), (1, 0, 0, 19)]\n",
            "[array(120), (1, 0, 0, 20)]\n",
            "[array(121), (1, 0, 0, 21)]\n",
            "[array(122), (1, 0, 0, 22)]\n",
            "[array(123), (1, 0, 0, 23)]\n",
            "[array(124), (1, 0, 0, 24)]\n",
            "[array(125), (1, 0, 1, 0)]\n",
            "[array(126), (1, 0, 1, 1)]\n",
            "[array(127), (1, 0, 1, 2)]\n",
            "[array(128), (1, 0, 1, 3)]\n",
            "[array(129), (1, 0, 1, 4)]\n",
            "[array(130), (1, 0, 1, 5)]\n",
            "[array(131), (1, 0, 1, 6)]\n",
            "[array(132), (1, 0, 1, 7)]\n",
            "[array(133), (1, 0, 1, 8)]\n",
            "[array(134), (1, 0, 1, 9)]\n",
            "[array(135), (1, 0, 1, 10)]\n",
            "[array(136), (1, 0, 1, 11)]\n",
            "[array(137), (1, 0, 1, 12)]\n",
            "[array(138), (1, 0, 1, 13)]\n",
            "[array(139), (1, 0, 1, 14)]\n",
            "[array(140), (1, 0, 1, 15)]\n",
            "[array(141), (1, 0, 1, 16)]\n",
            "[array(142), (1, 0, 1, 17)]\n",
            "[array(143), (1, 0, 1, 18)]\n",
            "[array(144), (1, 0, 1, 19)]\n",
            "[array(145), (1, 0, 1, 20)]\n",
            "[array(146), (1, 0, 1, 21)]\n",
            "[array(147), (1, 0, 1, 22)]\n",
            "[array(148), (1, 0, 1, 23)]\n",
            "[array(149), (1, 0, 1, 24)]\n",
            "[array(150), (1, 1, 0, 0)]\n",
            "[array(151), (1, 1, 0, 1)]\n",
            "[array(152), (1, 1, 0, 2)]\n",
            "[array(153), (1, 1, 0, 3)]\n",
            "[array(154), (1, 1, 0, 4)]\n",
            "[array(155), (1, 1, 0, 5)]\n",
            "[array(156), (1, 1, 0, 6)]\n",
            "[array(157), (1, 1, 0, 7)]\n",
            "[array(158), (1, 1, 0, 8)]\n",
            "[array(159), (1, 1, 0, 9)]\n",
            "[array(160), (1, 1, 0, 10)]\n",
            "[array(161), (1, 1, 0, 11)]\n",
            "[array(162), (1, 1, 0, 12)]\n",
            "[array(163), (1, 1, 0, 13)]\n",
            "[array(164), (1, 1, 0, 14)]\n",
            "[array(165), (1, 1, 0, 15)]\n",
            "[array(166), (1, 1, 0, 16)]\n",
            "[array(167), (1, 1, 0, 17)]\n",
            "[array(168), (1, 1, 0, 18)]\n",
            "[array(169), (1, 1, 0, 19)]\n",
            "[array(170), (1, 1, 0, 20)]\n",
            "[array(171), (1, 1, 0, 21)]\n",
            "[array(172), (1, 1, 0, 22)]\n",
            "[array(173), (1, 1, 0, 23)]\n",
            "[array(174), (1, 1, 0, 24)]\n",
            "[array(175), (1, 1, 1, 0)]\n",
            "[array(176), (1, 1, 1, 1)]\n",
            "[array(177), (1, 1, 1, 2)]\n",
            "[array(178), (1, 1, 1, 3)]\n",
            "[array(179), (1, 1, 1, 4)]\n",
            "[array(180), (1, 1, 1, 5)]\n",
            "[array(181), (1, 1, 1, 6)]\n",
            "[array(182), (1, 1, 1, 7)]\n",
            "[array(183), (1, 1, 1, 8)]\n",
            "[array(184), (1, 1, 1, 9)]\n",
            "[array(185), (1, 1, 1, 10)]\n",
            "[array(186), (1, 1, 1, 11)]\n",
            "[array(187), (1, 1, 1, 12)]\n",
            "[array(188), (1, 1, 1, 13)]\n",
            "[array(189), (1, 1, 1, 14)]\n",
            "[array(190), (1, 1, 1, 15)]\n",
            "[array(191), (1, 1, 1, 16)]\n",
            "[array(192), (1, 1, 1, 17)]\n",
            "[array(193), (1, 1, 1, 18)]\n",
            "[array(194), (1, 1, 1, 19)]\n",
            "[array(195), (1, 1, 1, 20)]\n",
            "[array(196), (1, 1, 1, 21)]\n",
            "[array(197), (1, 1, 1, 22)]\n",
            "[array(198), (1, 1, 1, 23)]\n",
            "[array(199), (1, 1, 1, 24)]\n"
          ]
        }
      ]
    },
    {
      "cell_type": "markdown",
      "source": [
        "**Just a Question : Transpose of IDENTITY array will be what??**"
      ],
      "metadata": {
        "id": "3tjYR9gyHdhG"
      }
    },
    {
      "cell_type": "code",
      "source": [
        "identity=np.eye(3)\n",
        "identity"
      ],
      "metadata": {
        "colab": {
          "base_uri": "https://localhost:8080/",
          "height": 0
        },
        "id": "dUfOKlUlGb1N",
        "outputId": "37b1ab23-9ea9-4261-a4af-94163eb7873a"
      },
      "execution_count": 161,
      "outputs": [
        {
          "output_type": "execute_result",
          "data": {
            "text/plain": [
              "array([[1., 0., 0.],\n",
              "       [0., 1., 0.],\n",
              "       [0., 0., 1.]])"
            ]
          },
          "metadata": {},
          "execution_count": 161
        }
      ]
    },
    {
      "cell_type": "code",
      "source": [
        "identity.T"
      ],
      "metadata": {
        "colab": {
          "base_uri": "https://localhost:8080/",
          "height": 0
        },
        "id": "FA2Y-GRwHO9V",
        "outputId": "fbb5ead2-06ea-4ad2-aaf5-5f97591dd231"
      },
      "execution_count": 162,
      "outputs": [
        {
          "output_type": "execute_result",
          "data": {
            "text/plain": [
              "array([[1., 0., 0.],\n",
              "       [0., 1., 0.],\n",
              "       [0., 0., 1.]])"
            ]
          },
          "metadata": {},
          "execution_count": 162
        }
      ]
    },
    {
      "cell_type": "markdown",
      "source": [
        "**Stacking : Joining Array**"
      ],
      "metadata": {
        "id": "_YT73Xy7HnCm"
      }
    },
    {
      "cell_type": "code",
      "source": [
        "arr15=np.arange(10).reshape(2,5)"
      ],
      "metadata": {
        "id": "TLp9tC2THb29"
      },
      "execution_count": 163,
      "outputs": []
    },
    {
      "cell_type": "code",
      "source": [
        "arr15"
      ],
      "metadata": {
        "colab": {
          "base_uri": "https://localhost:8080/",
          "height": 0
        },
        "id": "R3-QzFqyH5O2",
        "outputId": "fcd1e853-8b38-460f-dbd6-39c1e2504b63"
      },
      "execution_count": 164,
      "outputs": [
        {
          "output_type": "execute_result",
          "data": {
            "text/plain": [
              "array([[0, 1, 2, 3, 4],\n",
              "       [5, 6, 7, 8, 9]])"
            ]
          },
          "metadata": {},
          "execution_count": 164
        }
      ]
    },
    {
      "cell_type": "code",
      "source": [
        "arr16=np.arange(20,30).reshape(2,5)\n",
        "arr16"
      ],
      "metadata": {
        "colab": {
          "base_uri": "https://localhost:8080/",
          "height": 0
        },
        "id": "BXNHaWiGH6rN",
        "outputId": "1f1d2359-c0b8-4d18-9a81-fbd0d4a568d3"
      },
      "execution_count": 166,
      "outputs": [
        {
          "output_type": "execute_result",
          "data": {
            "text/plain": [
              "array([[20, 21, 22, 23, 24],\n",
              "       [25, 26, 27, 28, 29]])"
            ]
          },
          "metadata": {},
          "execution_count": 166
        }
      ]
    },
    {
      "cell_type": "code",
      "source": [
        "#Now we have two array of same shape ,\n",
        "#We want to join them face to face, ( Horizontly )\n",
        "np.hstack((arr15,arr16))"
      ],
      "metadata": {
        "colab": {
          "base_uri": "https://localhost:8080/",
          "height": 0
        },
        "id": "XZi-eA99H-lF",
        "outputId": "b5132951-0a88-4cd6-99ea-0abcda42aa59"
      },
      "execution_count": 168,
      "outputs": [
        {
          "output_type": "execute_result",
          "data": {
            "text/plain": [
              "array([[ 0,  1,  2,  3,  4, 20, 21, 22, 23, 24],\n",
              "       [ 5,  6,  7,  8,  9, 25, 26, 27, 28, 29]])"
            ]
          },
          "metadata": {},
          "execution_count": 168
        }
      ]
    },
    {
      "cell_type": "code",
      "source": [
        "#Example\n",
        "math_scores = np.array([[85, 90],\n",
        "                        [78, 92],\n",
        "                        [95, 88]])\n",
        "science_scores = np.array([[88, 92],\n",
        "                           [79, 85],\n",
        "                           [90, 92]])\n"
      ],
      "metadata": {
        "id": "s8Nz65KZIOON"
      },
      "execution_count": 169,
      "outputs": []
    },
    {
      "cell_type": "code",
      "source": [
        "combined_scores_v = np.vstack((math_scores, science_scores))\n",
        "print(combined_scores_v)"
      ],
      "metadata": {
        "colab": {
          "base_uri": "https://localhost:8080/",
          "height": 0
        },
        "id": "yPm5UsCtPUeb",
        "outputId": "546fb00c-dba1-482e-8534-80d0113da101"
      },
      "execution_count": 170,
      "outputs": [
        {
          "output_type": "stream",
          "name": "stdout",
          "text": [
            "[[85 90]\n",
            " [78 92]\n",
            " [95 88]\n",
            " [88 92]\n",
            " [79 85]\n",
            " [90 92]]\n"
          ]
        }
      ]
    },
    {
      "cell_type": "code",
      "source": [
        "combined_scores_h = np.hstack((math_scores, science_scores))\n",
        "print(combined_scores_h)"
      ],
      "metadata": {
        "colab": {
          "base_uri": "https://localhost:8080/",
          "height": 0
        },
        "id": "FUIVfpGzPY9D",
        "outputId": "5229d34e-bb91-4740-b1b1-d08106486dc2"
      },
      "execution_count": 171,
      "outputs": [
        {
          "output_type": "stream",
          "name": "stdout",
          "text": [
            "[[85 90 88 92]\n",
            " [78 92 79 85]\n",
            " [95 88 90 92]]\n"
          ]
        }
      ]
    },
    {
      "cell_type": "markdown",
      "source": [
        "**Spliting Array ( using hsplit , vsplit )**"
      ],
      "metadata": {
        "id": "eFZ9yM3TP0Nk"
      }
    },
    {
      "cell_type": "code",
      "source": [
        "#splitig : to split the arrays\n",
        "arr17=np.arange(10)\n",
        "arr17"
      ],
      "metadata": {
        "colab": {
          "base_uri": "https://localhost:8080/",
          "height": 0
        },
        "id": "8h5EaFRWPgK6",
        "outputId": "3c860375-5acf-46cd-875d-cbcae2a08fe3"
      },
      "execution_count": 173,
      "outputs": [
        {
          "output_type": "execute_result",
          "data": {
            "text/plain": [
              "array([0, 1, 2, 3, 4, 5, 6, 7, 8, 9])"
            ]
          },
          "metadata": {},
          "execution_count": 173
        }
      ]
    },
    {
      "cell_type": "code",
      "source": [
        "#Horizontal spli: if Column Divisable\n",
        "np.hsplit(arr17,2)"
      ],
      "metadata": {
        "colab": {
          "base_uri": "https://localhost:8080/",
          "height": 0
        },
        "id": "TH-z1_avQJU6",
        "outputId": "2f5974a5-b979-41b4-b5b2-5a392cfcd9dd"
      },
      "execution_count": 176,
      "outputs": [
        {
          "output_type": "execute_result",
          "data": {
            "text/plain": [
              "[array([0, 1, 2, 3, 4]), array([5, 6, 7, 8, 9])]"
            ]
          },
          "metadata": {},
          "execution_count": 176
        }
      ]
    },
    {
      "cell_type": "code",
      "source": [
        "np.hsplit(arr17,5)"
      ],
      "metadata": {
        "colab": {
          "base_uri": "https://localhost:8080/",
          "height": 0
        },
        "id": "Qd7DfZilQSy5",
        "outputId": "bb03314d-3628-47d9-f002-4792613a4e91"
      },
      "execution_count": 179,
      "outputs": [
        {
          "output_type": "execute_result",
          "data": {
            "text/plain": [
              "[array([0, 1]), array([2, 3]), array([4, 5]), array([6, 7]), array([8, 9])]"
            ]
          },
          "metadata": {},
          "execution_count": 179
        }
      ]
    },
    {
      "cell_type": "code",
      "source": [
        "arr18=np.arange(20).reshape(4,5)\n",
        "arr18"
      ],
      "metadata": {
        "colab": {
          "base_uri": "https://localhost:8080/",
          "height": 0
        },
        "id": "ZCIIUuboQYna",
        "outputId": "19e1f1f9-0e9e-489d-e8f3-639d19a37c7c"
      },
      "execution_count": 181,
      "outputs": [
        {
          "output_type": "execute_result",
          "data": {
            "text/plain": [
              "array([[ 0,  1,  2,  3,  4],\n",
              "       [ 5,  6,  7,  8,  9],\n",
              "       [10, 11, 12, 13, 14],\n",
              "       [15, 16, 17, 18, 19]])"
            ]
          },
          "metadata": {},
          "execution_count": 181
        }
      ]
    },
    {
      "cell_type": "code",
      "source": [
        "np.hsplit(arr18,5)"
      ],
      "metadata": {
        "colab": {
          "base_uri": "https://localhost:8080/",
          "height": 0
        },
        "id": "XPSrSU_GQo85",
        "outputId": "c1a6ac15-08c2-48f6-b064-1e372dff1330"
      },
      "execution_count": 182,
      "outputs": [
        {
          "output_type": "execute_result",
          "data": {
            "text/plain": [
              "[array([[ 0],\n",
              "        [ 5],\n",
              "        [10],\n",
              "        [15]]),\n",
              " array([[ 1],\n",
              "        [ 6],\n",
              "        [11],\n",
              "        [16]]),\n",
              " array([[ 2],\n",
              "        [ 7],\n",
              "        [12],\n",
              "        [17]]),\n",
              " array([[ 3],\n",
              "        [ 8],\n",
              "        [13],\n",
              "        [18]]),\n",
              " array([[ 4],\n",
              "        [ 9],\n",
              "        [14],\n",
              "        [19]])]"
            ]
          },
          "metadata": {},
          "execution_count": 182
        }
      ]
    },
    {
      "cell_type": "code",
      "source": [
        "#Now vertically split: If Row divisable\n",
        "arr18"
      ],
      "metadata": {
        "colab": {
          "base_uri": "https://localhost:8080/",
          "height": 0
        },
        "id": "TuAk_cwtQvUB",
        "outputId": "424e7a9f-7871-485b-8f06-f0c02ade25db"
      },
      "execution_count": 183,
      "outputs": [
        {
          "output_type": "execute_result",
          "data": {
            "text/plain": [
              "array([[ 0,  1,  2,  3,  4],\n",
              "       [ 5,  6,  7,  8,  9],\n",
              "       [10, 11, 12, 13, 14],\n",
              "       [15, 16, 17, 18, 19]])"
            ]
          },
          "metadata": {},
          "execution_count": 183
        }
      ]
    },
    {
      "cell_type": "code",
      "source": [
        "np.vsplit(arr18,2)"
      ],
      "metadata": {
        "colab": {
          "base_uri": "https://localhost:8080/",
          "height": 0
        },
        "id": "BzDR1hu9RKvS",
        "outputId": "f0d5ca20-88da-4d2a-9e4c-aeb9590fa660"
      },
      "execution_count": 192,
      "outputs": [
        {
          "output_type": "execute_result",
          "data": {
            "text/plain": [
              "[array([[0, 1, 2, 3, 4],\n",
              "        [5, 6, 7, 8, 9]]),\n",
              " array([[10, 11, 12, 13, 14],\n",
              "        [15, 16, 17, 18, 19]])]"
            ]
          },
          "metadata": {},
          "execution_count": 192
        }
      ]
    },
    {
      "cell_type": "markdown",
      "source": [
        "**Fancy Indexing :**"
      ],
      "metadata": {
        "id": "UI-m9zkPTmlq"
      }
    },
    {
      "cell_type": "code",
      "source": [
        "arr19=np.arange(24).reshape(6,4)"
      ],
      "metadata": {
        "id": "1ZwRE1lWReUi"
      },
      "execution_count": 193,
      "outputs": []
    },
    {
      "cell_type": "code",
      "source": [
        "arr19"
      ],
      "metadata": {
        "colab": {
          "base_uri": "https://localhost:8080/",
          "height": 0
        },
        "id": "rWr9Sr3wTw0Z",
        "outputId": "c8ad203b-e6b4-46eb-c69a-f3154593efda"
      },
      "execution_count": 194,
      "outputs": [
        {
          "output_type": "execute_result",
          "data": {
            "text/plain": [
              "array([[ 0,  1,  2,  3],\n",
              "       [ 4,  5,  6,  7],\n",
              "       [ 8,  9, 10, 11],\n",
              "       [12, 13, 14, 15],\n",
              "       [16, 17, 18, 19],\n",
              "       [20, 21, 22, 23]])"
            ]
          },
          "metadata": {},
          "execution_count": 194
        }
      ]
    },
    {
      "cell_type": "code",
      "source": [
        "#I want 1st row 3rd row\n",
        "#discountenous\n",
        "arr19[[1,2]]"
      ],
      "metadata": {
        "colab": {
          "base_uri": "https://localhost:8080/",
          "height": 0
        },
        "id": "w62sYPquTxnJ",
        "outputId": "61debaeb-9902-4d42-a76d-25185d6b0393"
      },
      "execution_count": 195,
      "outputs": [
        {
          "output_type": "execute_result",
          "data": {
            "text/plain": [
              "array([[ 4,  5,  6,  7],\n",
              "       [ 8,  9, 10, 11]])"
            ]
          },
          "metadata": {},
          "execution_count": 195
        }
      ]
    },
    {
      "cell_type": "code",
      "source": [
        "#Of column index 2\n",
        "#you can write like this\n",
        "arr19[[1,2],[2]]"
      ],
      "metadata": {
        "colab": {
          "base_uri": "https://localhost:8080/",
          "height": 0
        },
        "id": "R3kKsgFiT77R",
        "outputId": "11c1c5c5-d03d-443f-f937-a9358e63bc91"
      },
      "execution_count": 196,
      "outputs": [
        {
          "output_type": "execute_result",
          "data": {
            "text/plain": [
              "array([ 6, 10])"
            ]
          },
          "metadata": {},
          "execution_count": 196
        }
      ]
    },
    {
      "cell_type": "code",
      "source": [
        "#retrive only 3rd ROW (2nd INDEX)\n",
        "arr19[[2]]"
      ],
      "metadata": {
        "colab": {
          "base_uri": "https://localhost:8080/",
          "height": 0
        },
        "id": "1g48nXZKUO3y",
        "outputId": "9fb8b719-38f5-417d-e5a2-6ec4590b19d6"
      },
      "execution_count": 198,
      "outputs": [
        {
          "output_type": "execute_result",
          "data": {
            "text/plain": [
              "array([[ 8,  9, 10, 11]])"
            ]
          },
          "metadata": {},
          "execution_count": 198
        }
      ]
    },
    {
      "cell_type": "code",
      "source": [
        "#Retrive only 3rd and 5th RWO( 2nd and 4th INDEX)\n",
        "arr19[[2,4]]"
      ],
      "metadata": {
        "colab": {
          "base_uri": "https://localhost:8080/",
          "height": 0
        },
        "id": "Bx16oKenUt6q",
        "outputId": "49fc0dee-36c6-4a88-87f1-ccc8b9f6e31b"
      },
      "execution_count": 199,
      "outputs": [
        {
          "output_type": "execute_result",
          "data": {
            "text/plain": [
              "array([[ 8,  9, 10, 11],\n",
              "       [16, 17, 18, 19]])"
            ]
          },
          "metadata": {},
          "execution_count": 199
        }
      ]
    },
    {
      "cell_type": "code",
      "source": [
        "#Retrive only 4th ROW (INDEX 3)\n",
        "arr19[:,3]"
      ],
      "metadata": {
        "colab": {
          "base_uri": "https://localhost:8080/",
          "height": 0
        },
        "id": "ykC9EAy8U_4i",
        "outputId": "ab63d2d1-d2ba-40a4-f1ed-6e0e41de776a"
      },
      "execution_count": 202,
      "outputs": [
        {
          "output_type": "execute_result",
          "data": {
            "text/plain": [
              "array([ 3,  7, 11, 15, 19, 23])"
            ]
          },
          "metadata": {},
          "execution_count": 202
        }
      ]
    },
    {
      "cell_type": "code",
      "source": [
        "#Retrive 2nd RWO of 3rd COLUM (INDEX 1 and INDEX 2)\n",
        "arr19[[1],[2]]\n",
        "#yes 6 is right in 2nd ROW of 3rd COLUMN"
      ],
      "metadata": {
        "colab": {
          "base_uri": "https://localhost:8080/",
          "height": 0
        },
        "id": "EEUCh2qYVLLK",
        "outputId": "fedf2e33-a523-4305-d938-65b83eccc13b"
      },
      "execution_count": 203,
      "outputs": [
        {
          "output_type": "execute_result",
          "data": {
            "text/plain": [
              "array([6])"
            ]
          },
          "metadata": {},
          "execution_count": 203
        }
      ]
    },
    {
      "cell_type": "markdown",
      "source": [
        "**Conditional Indexing**"
      ],
      "metadata": {
        "id": "Ch3EKRndWCkb"
      }
    },
    {
      "cell_type": "code",
      "source": [
        "arr20=np.arange(12).reshape(3,4)\n",
        "arr20"
      ],
      "metadata": {
        "colab": {
          "base_uri": "https://localhost:8080/",
          "height": 0
        },
        "id": "-KauZRAvVs9K",
        "outputId": "a4f50138-4a71-4b88-9b1b-0b3a4ccc8c6d"
      },
      "execution_count": 207,
      "outputs": [
        {
          "output_type": "execute_result",
          "data": {
            "text/plain": [
              "array([[ 0,  1,  2,  3],\n",
              "       [ 4,  5,  6,  7],\n",
              "       [ 8,  9, 10, 11]])"
            ]
          },
          "metadata": {},
          "execution_count": 207
        }
      ]
    },
    {
      "cell_type": "code",
      "source": [
        "#I only want to know what elements are greater than 3\n",
        "arr20>3"
      ],
      "metadata": {
        "colab": {
          "base_uri": "https://localhost:8080/",
          "height": 0
        },
        "id": "a8e2_3YbWKRq",
        "outputId": "899e0fbc-81ec-4ae0-b1c3-500fe0777009"
      },
      "execution_count": 214,
      "outputs": [
        {
          "output_type": "execute_result",
          "data": {
            "text/plain": [
              "array([[False, False, False, False],\n",
              "       [ True,  True,  True,  True],\n",
              "       [ True,  True,  True,  True]])"
            ]
          },
          "metadata": {},
          "execution_count": 214
        }
      ]
    },
    {
      "cell_type": "code",
      "source": [
        "#Now I am overlaping arr on that True False\n",
        "#to show only those which are true\n",
        "#means only those elements whoch are greater than 3\n",
        "arr20[arr20>3]"
      ],
      "metadata": {
        "colab": {
          "base_uri": "https://localhost:8080/",
          "height": 0
        },
        "id": "bYXbmcMDWcQ6",
        "outputId": "b44662b7-8805-4795-e7c7-1f45c5ef47dd"
      },
      "execution_count": 215,
      "outputs": [
        {
          "output_type": "execute_result",
          "data": {
            "text/plain": [
              "array([ 4,  5,  6,  7,  8,  9, 10, 11])"
            ]
          },
          "metadata": {},
          "execution_count": 215
        }
      ]
    },
    {
      "cell_type": "code",
      "source": [
        "#Eg 2: #I only want to know what elements are greater than 6\n",
        "arr20>6"
      ],
      "metadata": {
        "colab": {
          "base_uri": "https://localhost:8080/",
          "height": 0
        },
        "id": "zIob9cXjW5ZC",
        "outputId": "ef811476-0eeb-408d-9751-5540c379d924"
      },
      "execution_count": 216,
      "outputs": [
        {
          "output_type": "execute_result",
          "data": {
            "text/plain": [
              "array([[False, False, False, False],\n",
              "       [False, False, False,  True],\n",
              "       [ True,  True,  True,  True]])"
            ]
          },
          "metadata": {},
          "execution_count": 216
        }
      ]
    },
    {
      "cell_type": "code",
      "source": [
        "arr20[arr20>6]"
      ],
      "metadata": {
        "colab": {
          "base_uri": "https://localhost:8080/",
          "height": 0
        },
        "id": "95ShS6VxXQGa",
        "outputId": "2670eecc-3c6e-49bb-9cdf-71f3423c2946"
      },
      "execution_count": 217,
      "outputs": [
        {
          "output_type": "execute_result",
          "data": {
            "text/plain": [
              "array([ 7,  8,  9, 10, 11])"
            ]
          },
          "metadata": {},
          "execution_count": 217
        }
      ]
    },
    {
      "cell_type": "code",
      "source": [
        "#Eg 3 : Multiple conditions\n",
        "arr20[(arr20>2) & (arr20%2!=0)]"
      ],
      "metadata": {
        "colab": {
          "base_uri": "https://localhost:8080/",
          "height": 0
        },
        "id": "erZildHxXSU6",
        "outputId": "4e0a1718-9258-4564-8803-bd5fcc90ac43"
      },
      "execution_count": 218,
      "outputs": [
        {
          "output_type": "execute_result",
          "data": {
            "text/plain": [
              "array([ 3,  5,  7,  9, 11])"
            ]
          },
          "metadata": {},
          "execution_count": 218
        }
      ]
    },
    {
      "cell_type": "code",
      "source": [
        "#Eg 4 : I just wanted to do which numbers are greater than 8 and odd i want ot make it 0\n",
        "print(arr20[(arr20>8) & (arr20%2==1)])\n",
        "arr20[(arr20>8) & (arr20%2==1)]=0"
      ],
      "metadata": {
        "id": "aOlSc55NX38S"
      },
      "execution_count": 221,
      "outputs": []
    },
    {
      "cell_type": "code",
      "source": [
        "#9 and 11\n",
        "arr20"
      ],
      "metadata": {
        "colab": {
          "base_uri": "https://localhost:8080/",
          "height": 0
        },
        "id": "XB-AP155YMl5",
        "outputId": "73d34000-9bfa-4994-cbc7-0eee72bbe461"
      },
      "execution_count": 222,
      "outputs": [
        {
          "output_type": "execute_result",
          "data": {
            "text/plain": [
              "array([[ 0,  1,  2,  3],\n",
              "       [ 4,  5,  6,  7],\n",
              "       [ 8,  0, 10,  0]])"
            ]
          },
          "metadata": {},
          "execution_count": 222
        }
      ]
    },
    {
      "cell_type": "markdown",
      "source": [
        "**Broadcasting in Numpy Array**"
      ],
      "metadata": {
        "id": "WT3P0OcXgOvV"
      }
    },
    {
      "cell_type": "code",
      "source": [
        "#Lets take 2 different array shape\n",
        "ar1=np.arange(9).reshape(3,3)\n",
        "ar1"
      ],
      "metadata": {
        "colab": {
          "base_uri": "https://localhost:8080/",
          "height": 0
        },
        "id": "mJq1HuutgPR9",
        "outputId": "e90ab614-dce2-4bd6-e511-34dcf91ec7e1"
      },
      "execution_count": 280,
      "outputs": [
        {
          "output_type": "execute_result",
          "data": {
            "text/plain": [
              "array([[0, 1, 2],\n",
              "       [3, 4, 5],\n",
              "       [6, 7, 8]])"
            ]
          },
          "metadata": {},
          "execution_count": 280
        }
      ]
    },
    {
      "cell_type": "code",
      "source": [
        "#now we are taking another array with 1 D and 3 Element\n",
        "ar2=np.arange(1,4)"
      ],
      "metadata": {
        "id": "tWvjEs22gQH_"
      },
      "execution_count": 283,
      "outputs": []
    },
    {
      "cell_type": "code",
      "source": [
        "ar2"
      ],
      "metadata": {
        "colab": {
          "base_uri": "https://localhost:8080/",
          "height": 0
        },
        "id": "_qVzuoBGgQSV",
        "outputId": "a2832556-c3f7-4496-dc5c-8262e9a4a1fe"
      },
      "execution_count": 284,
      "outputs": [
        {
          "output_type": "execute_result",
          "data": {
            "text/plain": [
              "array([1, 2, 3])"
            ]
          },
          "metadata": {},
          "execution_count": 284
        }
      ]
    },
    {
      "cell_type": "code",
      "source": [
        "#NOW we want to multiply these two\n",
        "#but wait a sec, How they can multiply when thier shapes is different\n",
        "#Let see\n",
        "ar1*ar2"
      ],
      "metadata": {
        "colab": {
          "base_uri": "https://localhost:8080/",
          "height": 0
        },
        "id": "Kzf_psV9gopT",
        "outputId": "8ea48428-d3f9-4d24-9618-79726ddee582"
      },
      "execution_count": 285,
      "outputs": [
        {
          "output_type": "execute_result",
          "data": {
            "text/plain": [
              "array([[ 0,  2,  6],\n",
              "       [ 3,  8, 15],\n",
              "       [ 6, 14, 24]])"
            ]
          },
          "metadata": {},
          "execution_count": 285
        }
      ]
    },
    {
      "cell_type": "code",
      "source": [
        "#Multiplied :: YES,\n",
        "#Thats called Broadcasting when 1D array automatically\n",
        "# and become 3D and mulplyy as each row of 3D array\n",
        "#Broadcasting is refere to ability of Numpy to treate array of different shapes during arithmatic operation"
      ],
      "metadata": {
        "id": "GgOd_gyvgo6b"
      },
      "execution_count": null,
      "outputs": []
    },
    {
      "cell_type": "code",
      "source": [],
      "metadata": {
        "id": "Y-8XMa73gpDr"
      },
      "execution_count": null,
      "outputs": []
    },
    {
      "cell_type": "markdown",
      "source": [
        "**Ploting using Numpy**"
      ],
      "metadata": {
        "id": "0YKuobPEZVoV"
      }
    },
    {
      "cell_type": "code",
      "source": [
        "#I am creating an array from -40 to 40 and size is 100, linearly spcaed\n",
        "x=np.linspace(-40,40,100)"
      ],
      "metadata": {
        "id": "_VI7-ipLYaw6"
      },
      "execution_count": 225,
      "outputs": []
    },
    {
      "cell_type": "code",
      "source": [
        "x"
      ],
      "metadata": {
        "colab": {
          "base_uri": "https://localhost:8080/",
          "height": 0
        },
        "id": "QNm1spW5Zefi",
        "outputId": "3143b682-4d64-4fd4-bf9b-3f18c35aa19f"
      },
      "execution_count": 226,
      "outputs": [
        {
          "output_type": "execute_result",
          "data": {
            "text/plain": [
              "array([-40.        , -39.19191919, -38.38383838, -37.57575758,\n",
              "       -36.76767677, -35.95959596, -35.15151515, -34.34343434,\n",
              "       -33.53535354, -32.72727273, -31.91919192, -31.11111111,\n",
              "       -30.3030303 , -29.49494949, -28.68686869, -27.87878788,\n",
              "       -27.07070707, -26.26262626, -25.45454545, -24.64646465,\n",
              "       -23.83838384, -23.03030303, -22.22222222, -21.41414141,\n",
              "       -20.60606061, -19.7979798 , -18.98989899, -18.18181818,\n",
              "       -17.37373737, -16.56565657, -15.75757576, -14.94949495,\n",
              "       -14.14141414, -13.33333333, -12.52525253, -11.71717172,\n",
              "       -10.90909091, -10.1010101 ,  -9.29292929,  -8.48484848,\n",
              "        -7.67676768,  -6.86868687,  -6.06060606,  -5.25252525,\n",
              "        -4.44444444,  -3.63636364,  -2.82828283,  -2.02020202,\n",
              "        -1.21212121,  -0.4040404 ,   0.4040404 ,   1.21212121,\n",
              "         2.02020202,   2.82828283,   3.63636364,   4.44444444,\n",
              "         5.25252525,   6.06060606,   6.86868687,   7.67676768,\n",
              "         8.48484848,   9.29292929,  10.1010101 ,  10.90909091,\n",
              "        11.71717172,  12.52525253,  13.33333333,  14.14141414,\n",
              "        14.94949495,  15.75757576,  16.56565657,  17.37373737,\n",
              "        18.18181818,  18.98989899,  19.7979798 ,  20.60606061,\n",
              "        21.41414141,  22.22222222,  23.03030303,  23.83838384,\n",
              "        24.64646465,  25.45454545,  26.26262626,  27.07070707,\n",
              "        27.87878788,  28.68686869,  29.49494949,  30.3030303 ,\n",
              "        31.11111111,  31.91919192,  32.72727273,  33.53535354,\n",
              "        34.34343434,  35.15151515,  35.95959596,  36.76767677,\n",
              "        37.57575758,  38.38383838,  39.19191919,  40.        ])"
            ]
          },
          "metadata": {},
          "execution_count": 226
        }
      ]
    },
    {
      "cell_type": "code",
      "source": [
        "x.size"
      ],
      "metadata": {
        "colab": {
          "base_uri": "https://localhost:8080/",
          "height": 0
        },
        "id": "l5cD-y2wZfJK",
        "outputId": "7adc9a93-a3c5-4975-f3c0-a90fc8d2d957"
      },
      "execution_count": 227,
      "outputs": [
        {
          "output_type": "execute_result",
          "data": {
            "text/plain": [
              "100"
            ]
          },
          "metadata": {},
          "execution_count": 227
        }
      ]
    },
    {
      "cell_type": "code",
      "source": [
        "y=np.sin(x)"
      ],
      "metadata": {
        "id": "1OY4HEimZn7i"
      },
      "execution_count": 228,
      "outputs": []
    },
    {
      "cell_type": "code",
      "source": [
        "#Same sine just all elements sin\n",
        "y.size"
      ],
      "metadata": {
        "colab": {
          "base_uri": "https://localhost:8080/",
          "height": 0
        },
        "id": "qFprTA73Zqy7",
        "outputId": "39667aa4-0b8e-4045-fb4e-eadd1fdcd74f"
      },
      "execution_count": 231,
      "outputs": [
        {
          "output_type": "execute_result",
          "data": {
            "text/plain": [
              "100"
            ]
          },
          "metadata": {},
          "execution_count": 231
        }
      ]
    },
    {
      "cell_type": "code",
      "source": [
        "import matplotlib.pyplot as plt\n"
      ],
      "metadata": {
        "id": "GeAfztw3ZrkS"
      },
      "execution_count": 234,
      "outputs": []
    },
    {
      "cell_type": "code",
      "source": [
        "#Now are drawing those x and y\n",
        "#plt.plot() required two parameter, x and y\n",
        "plt.plot(x,y)"
      ],
      "metadata": {
        "colab": {
          "base_uri": "https://localhost:8080/",
          "height": 448
        },
        "id": "26WjOPLwacWz",
        "outputId": "08670d7a-0a6c-4757-cee3-2674515ec780"
      },
      "execution_count": 236,
      "outputs": [
        {
          "output_type": "execute_result",
          "data": {
            "text/plain": [
              "[<matplotlib.lines.Line2D at 0x7fb29a55f130>]"
            ]
          },
          "metadata": {},
          "execution_count": 236
        },
        {
          "output_type": "display_data",
          "data": {
            "text/plain": [
              "<Figure size 640x480 with 1 Axes>"
            ],
            "image/png": "[encoded data removed]"
          },
          "metadata": {}
        }
      ]
    },
    {
      "cell_type": "code",
      "source": [
        "#plt have more args: lets explore\n",
        "#its format string : line style , marker style and color,\n",
        "# b- : blue -\n",
        "#ro : red circle\n",
        "plt.plot(x,y,'ro')"
      ],
      "metadata": {
        "colab": {
          "base_uri": "https://localhost:8080/",
          "height": 448
        },
        "id": "qSsVndwwamfy",
        "outputId": "6e3717a4-a745-4e3d-e8df-e780cf5a7374"
      },
      "execution_count": 238,
      "outputs": [
        {
          "output_type": "execute_result",
          "data": {
            "text/plain": [
              "[<matplotlib.lines.Line2D at 0x7fb29a1b1b70>]"
            ]
          },
          "metadata": {},
          "execution_count": 238
        },
        {
          "output_type": "display_data",
          "data": {
            "text/plain": [
              "<Figure size 640x480 with 1 Axes>"
            ],
            "image/png": "[encoded data removed]"
          },
          "metadata": {}
        }
      ]
    },
    {
      "cell_type": "code",
      "source": [
        "plt.plot(x,y,'b-')"
      ],
      "metadata": {
        "colab": {
          "base_uri": "https://localhost:8080/",
          "height": 448
        },
        "id": "Y0tC6Yx5bNfq",
        "outputId": "c840b1e1-84b3-474c-947d-300045f42dec"
      },
      "execution_count": 239,
      "outputs": [
        {
          "output_type": "execute_result",
          "data": {
            "text/plain": [
              "[<matplotlib.lines.Line2D at 0x7fb29a0f0250>]"
            ]
          },
          "metadata": {},
          "execution_count": 239
        },
        {
          "output_type": "display_data",
          "data": {
            "text/plain": [
              "<Figure size 640x480 with 1 Axes>"
            ],
            "image/png": "[encoded data removed]"
          },
          "metadata": {}
        }
      ]
    },
    {
      "cell_type": "code",
      "source": [
        "plt.plot(x,y,'r-')"
      ],
      "metadata": {
        "colab": {
          "base_uri": "https://localhost:8080/",
          "height": 448
        },
        "id": "-XIt64wBbe6r",
        "outputId": "169e3134-1027-4b54-a258-0cf8cfd3b462"
      },
      "execution_count": 240,
      "outputs": [
        {
          "output_type": "execute_result",
          "data": {
            "text/plain": [
              "[<matplotlib.lines.Line2D at 0x7fb29a04d420>]"
            ]
          },
          "metadata": {},
          "execution_count": 240
        },
        {
          "output_type": "display_data",
          "data": {
            "text/plain": [
              "<Figure size 640x480 with 1 Axes>"
            ],
            "image/png": "[encoded data removed]"
          },
          "metadata": {}
        }
      ]
    },
    {
      "cell_type": "code",
      "source": [
        "#Pentagone\n",
        "plt.plot(x,y,'p')"
      ],
      "metadata": {
        "colab": {
          "base_uri": "https://localhost:8080/",
          "height": 448
        },
        "id": "SP1pVmlCbuUD",
        "outputId": "c7d0123a-3bac-40e6-e184-c73da1c2b5e4"
      },
      "execution_count": 241,
      "outputs": [
        {
          "output_type": "execute_result",
          "data": {
            "text/plain": [
              "[<matplotlib.lines.Line2D at 0x7fb29a301de0>]"
            ]
          },
          "metadata": {},
          "execution_count": 241
        },
        {
          "output_type": "display_data",
          "data": {
            "text/plain": [
              "<Figure size 640x480 with 1 Axes>"
            ],
            "image/png": "[encoded data removed]"
          },
          "metadata": {}
        }
      ]
    },
    {
      "cell_type": "code",
      "source": [
        "#Star Maker: change color next\n",
        "plt.plot(x,y,'*')"
      ],
      "metadata": {
        "colab": {
          "base_uri": "https://localhost:8080/",
          "height": 448
        },
        "id": "fekpMSwZb04r",
        "outputId": "7de49f19-c546-4fb1-fae6-d43f4f1322b9"
      },
      "execution_count": 242,
      "outputs": [
        {
          "output_type": "execute_result",
          "data": {
            "text/plain": [
              "[<matplotlib.lines.Line2D at 0x7fb29a3117e0>]"
            ]
          },
          "metadata": {},
          "execution_count": 242
        },
        {
          "output_type": "display_data",
          "data": {
            "text/plain": [
              "<Figure size 640x480 with 1 Axes>"
            ],
            "image/png": "[encoded data removed]"
          },
          "metadata": {}
        }
      ]
    },
    {
      "cell_type": "code",
      "source": [
        "#Blue * with line style\n",
        "plt.plot(x,y,'b*-')"
      ],
      "metadata": {
        "colab": {
          "base_uri": "https://localhost:8080/",
          "height": 448
        },
        "id": "gQr6HO2Sb_C7",
        "outputId": "ef23a802-6c71-4c96-a588-bdb5381791cc"
      },
      "execution_count": 244,
      "outputs": [
        {
          "output_type": "execute_result",
          "data": {
            "text/plain": [
              "[<matplotlib.lines.Line2D at 0x7fb297cf0280>]"
            ]
          },
          "metadata": {},
          "execution_count": 244
        },
        {
          "output_type": "display_data",
          "data": {
            "text/plain": [
              "<Figure size 640x480 with 1 Axes>"
            ],
            "image/png": "[encoded data removed]"
          },
          "metadata": {}
        }
      ]
    },
    {
      "cell_type": "code",
      "source": [
        "#cyan color ^ upward -line style\n",
        "plt.plot(x,y,'c^-')"
      ],
      "metadata": {
        "colab": {
          "base_uri": "https://localhost:8080/",
          "height": 448
        },
        "id": "O001RoeFcEzj",
        "outputId": "baa3a9a2-49de-4575-c40e-ae92d03e7610"
      },
      "execution_count": 247,
      "outputs": [
        {
          "output_type": "execute_result",
          "data": {
            "text/plain": [
              "[<matplotlib.lines.Line2D at 0x7fb299f78cd0>]"
            ]
          },
          "metadata": {},
          "execution_count": 247
        },
        {
          "output_type": "display_data",
          "data": {
            "text/plain": [
              "<Figure size 640x480 with 1 Axes>"
            ],
            "image/png": "[encoded data removed]"
          },
          "metadata": {}
        }
      ]
    },
    {
      "cell_type": "code",
      "source": [
        "#Magenta color\n",
        "plt.plot(x,y,'m*-')"
      ],
      "metadata": {
        "colab": {
          "base_uri": "https://localhost:8080/",
          "height": 448
        },
        "id": "A8Mng3sGcOYz",
        "outputId": "a864865b-5687-4e11-9c59-64df061aef8a"
      },
      "execution_count": 248,
      "outputs": [
        {
          "output_type": "execute_result",
          "data": {
            "text/plain": [
              "[<matplotlib.lines.Line2D at 0x7fb299f7a500>]"
            ]
          },
          "metadata": {},
          "execution_count": 248
        },
        {
          "output_type": "display_data",
          "data": {
            "text/plain": [
              "<Figure size 640x480 with 1 Axes>"
            ],
            "image/png": "[encoded data removed]"
          },
          "metadata": {}
        }
      ]
    },
    {
      "cell_type": "code",
      "source": [
        "#k Black color, h hexagone, - kline style\n",
        "plt.plot(x,y,'kh-')"
      ],
      "metadata": {
        "colab": {
          "base_uri": "https://localhost:8080/",
          "height": 448
        },
        "id": "QHHie9IwccIj",
        "outputId": "96efb6ca-6d5e-4e40-c533-287592495ca9"
      },
      "execution_count": 249,
      "outputs": [
        {
          "output_type": "execute_result",
          "data": {
            "text/plain": [
              "[<matplotlib.lines.Line2D at 0x7fb297ac8340>]"
            ]
          },
          "metadata": {},
          "execution_count": 249
        },
        {
          "output_type": "display_data",
          "data": {
            "text/plain": [
              "<Figure size 640x480 with 1 Axes>"
            ],
            "image/png": "[encoded data removed]"
          },
          "metadata": {}
        }
      ]
    },
    {
      "cell_type": "code",
      "source": [
        "plt.plot(x,y,'kx')"
      ],
      "metadata": {
        "colab": {
          "base_uri": "https://localhost:8080/",
          "height": 448
        },
        "id": "aGHA-tvtch0r",
        "outputId": "c7110dda-72ea-4472-f7d9-227fdc3406e1"
      },
      "execution_count": 256,
      "outputs": [
        {
          "output_type": "execute_result",
          "data": {
            "text/plain": [
              "[<matplotlib.lines.Line2D at 0x7fb297923100>]"
            ]
          },
          "metadata": {},
          "execution_count": 256
        },
        {
          "output_type": "display_data",
          "data": {
            "text/plain": [
              "<Figure size 640x480 with 1 Axes>"
            ],
            "image/png": "[encoded data removed]"
          },
          "metadata": {}
        }
      ]
    },
    {
      "cell_type": "code",
      "source": [
        "#OKey: Let take any Quadratic Equation\n",
        "#Any euqation that have raise to factors or power of that variable\n",
        "z=x*x+2+x*6\n",
        "plt.plot(x,z)\n"
      ],
      "metadata": {
        "colab": {
          "base_uri": "https://localhost:8080/",
          "height": 448
        },
        "id": "0_cIssxzc0rr",
        "outputId": "84e270ac-784b-4805-ed3b-521f5634ae5a"
      },
      "execution_count": 260,
      "outputs": [
        {
          "output_type": "execute_result",
          "data": {
            "text/plain": [
              "[<matplotlib.lines.Line2D at 0x7fb2977ee7a0>]"
            ]
          },
          "metadata": {},
          "execution_count": 260
        },
        {
          "output_type": "display_data",
          "data": {
            "text/plain": [
              "<Figure size 640x480 with 1 Axes>"
            ],
            "image/png": "[encoded data removed]"
          },
          "metadata": {}
        }
      ]
    },
    {
      "cell_type": "code",
      "source": [
        "#Lets take Cubic Equation\n",
        "w=x**3+5\n",
        "plt.plot(x,w)"
      ],
      "metadata": {
        "colab": {
          "base_uri": "https://localhost:8080/",
          "height": 448
        },
        "id": "G49DTWVPddzT",
        "outputId": "70f8206f-7cf8-4027-a99e-d4e4abee7023"
      },
      "execution_count": 262,
      "outputs": [
        {
          "output_type": "execute_result",
          "data": {
            "text/plain": [
              "[<matplotlib.lines.Line2D at 0x7fb2977dd420>]"
            ]
          },
          "metadata": {},
          "execution_count": 262
        },
        {
          "output_type": "display_data",
          "data": {
            "text/plain": [
              "<Figure size 640x480 with 1 Axes>"
            ],
            "image/png": "[encoded data removed]"
          },
          "metadata": {}
        }
      ]
    },
    {
      "cell_type": "code",
      "source": [
        "#tan of x\n",
        "tan=np.tan(x)"
      ],
      "metadata": {
        "id": "sImXO6gdeABT"
      },
      "execution_count": 264,
      "outputs": []
    },
    {
      "cell_type": "code",
      "source": [
        "plt.plot(x,tan)"
      ],
      "metadata": {
        "colab": {
          "base_uri": "https://localhost:8080/",
          "height": 448
        },
        "id": "Nmft3_gFeTkK",
        "outputId": "ff868df1-e0a8-4e92-95d3-276331d2a7ea"
      },
      "execution_count": 265,
      "outputs": [
        {
          "output_type": "execute_result",
          "data": {
            "text/plain": [
              "[<matplotlib.lines.Line2D at 0x7fb297aeb070>]"
            ]
          },
          "metadata": {},
          "execution_count": 265
        },
        {
          "output_type": "display_data",
          "data": {
            "text/plain": [
              "<Figure size 640x480 with 1 Axes>"
            ],
            "image/png": "[encoded data removed]"
          },
          "metadata": {}
        }
      ]
    },
    {
      "cell_type": "code",
      "source": [
        "log1=np.log(x)"
      ],
      "metadata": {
        "colab": {
          "base_uri": "https://localhost:8080/",
          "height": 0
        },
        "id": "YYs5ishneYIa",
        "outputId": "75826608-fa8f-4f7d-d958-2db80d9ac2de"
      },
      "execution_count": 267,
      "outputs": [
        {
          "output_type": "stream",
          "name": "stderr",
          "text": [
            "<ipython-input-267-d4e96f05ae00>:1: RuntimeWarning: invalid value encountered in log\n",
            "  log1=np.log(x)\n"
          ]
        }
      ]
    },
    {
      "cell_type": "code",
      "source": [
        "plt.plot(x,log1)"
      ],
      "metadata": {
        "colab": {
          "base_uri": "https://localhost:8080/",
          "height": 448
        },
        "id": "Jv3hEs81ej7K",
        "outputId": "a68c493c-3bdf-4668-feed-d6b1225c5dd7"
      },
      "execution_count": 269,
      "outputs": [
        {
          "output_type": "execute_result",
          "data": {
            "text/plain": [
              "[<matplotlib.lines.Line2D at 0x7fb2976cb7c0>]"
            ]
          },
          "metadata": {},
          "execution_count": 269
        },
        {
          "output_type": "display_data",
          "data": {
            "text/plain": [
              "<Figure size 640x480 with 1 Axes>"
            ],
            "image/png": "[encoded data removed]"
          },
          "metadata": {}
        }
      ]
    },
    {
      "cell_type": "code",
      "source": [
        "#Now Label in plot\n",
        "plt.plot(x,y, label='Hi This is Label')\n",
        "plt.xlabel('x here')\n",
        "plt.ylabel('y here')\n",
        "plt.title('Title')\n",
        "plt.legend()"
      ],
      "metadata": {
        "colab": {
          "base_uri": "https://localhost:8080/",
          "height": 490
        },
        "id": "QJ_d6dDgenzT",
        "outputId": "89a7a8f9-1d6b-44e4-d58a-d77c33a6cbbd"
      },
      "execution_count": 277,
      "outputs": [
        {
          "output_type": "execute_result",
          "data": {
            "text/plain": [
              "<matplotlib.legend.Legend at 0x7fb2976260b0>"
            ]
          },
          "metadata": {},
          "execution_count": 277
        },
        {
          "output_type": "display_data",
          "data": {
            "text/plain": [
              "<Figure size 640x480 with 1 Axes>"
            ],
            "image/png": "[encoded data removed]"
          },
          "metadata": {}
        }
      ]
    },
    {
      "cell_type": "code",
      "source": [
        "#if we dont use plt.show ( sometime it does not show any visuals)"
      ],
      "metadata": {
        "colab": {
          "base_uri": "https://localhost:8080/",
          "height": 491
        },
        "id": "-4gKbws_e8p6",
        "outputId": "466bbc0c-5277-4e9c-bedd-d06c18c53ffa"
      },
      "execution_count": 276,
      "outputs": [
        {
          "output_type": "stream",
          "name": "stderr",
          "text": [
            "WARNING:matplotlib.legend:No artists with labels found to put in legend.  Note that artists whose label start with an underscore are ignored when legend() is called with no argument.\n"
          ]
        },
        {
          "output_type": "execute_result",
          "data": {
            "text/plain": [
              "<matplotlib.legend.Legend at 0x7fb29714b550>"
            ]
          },
          "metadata": {},
          "execution_count": 276
        },
        {
          "output_type": "display_data",
          "data": {
            "text/plain": [
              "<Figure size 640x480 with 1 Axes>"
            ],
            "image/png": "[encoded data removed]"
          },
          "metadata": {}
        }
      ]
    },
    {
      "cell_type": "code",
      "source": [],
      "metadata": {
        "id": "gNWFQ0STfXwS"
      },
      "execution_count": null,
      "outputs": []
    }
  ]
}