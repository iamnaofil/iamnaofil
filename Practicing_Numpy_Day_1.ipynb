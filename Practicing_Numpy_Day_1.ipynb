{
  "nbformat": 4,
  "nbformat_minor": 0,
  "metadata": {
    "colab": {
      "provenance": [],
      "authorship_tag": "ABX9TyP6Yq8yyYW9rijq6CHE/GkZ",
      "include_colab_link": true
    },
    "kernelspec": {
      "name": "python3",
      "display_name": "Python 3"
    },
    "language_info": {
      "name": "python"
    }
  },
  "cells": [
    {
      "cell_type": "markdown",
      "metadata": {
        "id": "view-in-github",
        "colab_type": "text"
      },
      "source": [
        "<a href=\"https://colab.research.google.com/github/iamnaofil/iamnaofil/blob/main/Practicing_Numpy_Day_1.ipynb\" target=\"_parent\"><img src=\"https://colab.research.google.com/assets/colab-badge.svg\" alt=\"Open In Colab\"/></a>"
      ]
    },
    {
      "cell_type": "code",
      "execution_count": 1,
      "metadata": {
        "id": "BYV2jQ3JIHTU"
      },
      "outputs": [],
      "source": [
        "import numpy as np"
      ]
    },
    {
      "cell_type": "code",
      "source": [
        "#Print NUMPY VERSION\n",
        "np.__version__\n"
      ],
      "metadata": {
        "colab": {
          "base_uri": "https://localhost:8080/",
          "height": 35
        },
        "id": "bdyE0NmJIJuk",
        "outputId": "a57413bf-f139-4954-d453-225e64e38644"
      },
      "execution_count": 5,
      "outputs": [
        {
          "output_type": "execute_result",
          "data": {
            "text/plain": [
              "'1.22.4'"
            ],
            "application/vnd.google.colaboratory.intrinsic+json": {
              "type": "string"
            }
          },
          "metadata": {},
          "execution_count": 5
        }
      ]
    },
    {
      "cell_type": "code",
      "source": [
        "#Show Configuration of Numpy\n",
        "np.show_config()"
      ],
      "metadata": {
        "id": "7llvxhRfIMzq"
      },
      "execution_count": null,
      "outputs": []
    },
    {
      "cell_type": "code",
      "source": [
        "#Create a null vector of size 10\n",
        "null_vector=np.zeros(10)\n",
        "print(null_vector)"
      ],
      "metadata": {
        "colab": {
          "base_uri": "https://localhost:8080/"
        },
        "id": "FdcqSLH3In7y",
        "outputId": "2de416e0-c3ea-4934-d703-d7b062d267dd"
      },
      "execution_count": 8,
      "outputs": [
        {
          "output_type": "stream",
          "name": "stdout",
          "text": [
            "[0. 0. 0. 0. 0. 0. 0. 0. 0. 0.]\n"
          ]
        }
      ]
    },
    {
      "cell_type": "code",
      "source": [
        "#How to find the memory size of any array\n",
        "\n",
        "memory_size=null_vector.nbytes\n",
        "print(memory_size)\n",
        "#here a single item 0. is 8 Byte so 8 x 10 is 80"
      ],
      "metadata": {
        "colab": {
          "base_uri": "https://localhost:8080/"
        },
        "id": "OoVAyURWI1GK",
        "outputId": "f7de5c3b-203a-4810-d0df-b24091459aa1"
      },
      "execution_count": 9,
      "outputs": [
        {
          "output_type": "stream",
          "name": "stdout",
          "text": [
            "80\n"
          ]
        }
      ]
    },
    {
      "cell_type": "code",
      "source": [
        "# Create a null vector of size 10 but the fifth value which is 1\n",
        "null_vector[4]=1\n",
        "print(null_vector)"
      ],
      "metadata": {
        "colab": {
          "base_uri": "https://localhost:8080/"
        },
        "id": "I32mxIM4JCJ6",
        "outputId": "cfea2923-725a-47aa-d7da-9e6fe1de2837"
      },
      "execution_count": 14,
      "outputs": [
        {
          "output_type": "stream",
          "name": "stdout",
          "text": [
            "[0. 0. 0. 0. 1. 0. 0. 0. 0. 0.]\n"
          ]
        }
      ]
    },
    {
      "cell_type": "code",
      "source": [
        "# Create a vector with values ranging from 10 to 49\n",
        "vec1=np.arange(10,50)\n",
        "print(vec1)"
      ],
      "metadata": {
        "colab": {
          "base_uri": "https://localhost:8080/"
        },
        "id": "OMKFck3JJUNa",
        "outputId": "94d41e7e-69c1-4d3b-86b5-9e2c0050cfd0"
      },
      "execution_count": 16,
      "outputs": [
        {
          "output_type": "stream",
          "name": "stdout",
          "text": [
            "[10 11 12 13 14 15 16 17 18 19 20 21 22 23 24 25 26 27 28 29 30 31 32 33\n",
            " 34 35 36 37 38 39 40 41 42 43 44 45 46 47 48 49]\n"
          ]
        }
      ]
    },
    {
      "cell_type": "code",
      "source": [
        "#Reverse the Vector\n",
        "vec1[::-1]"
      ],
      "metadata": {
        "colab": {
          "base_uri": "https://localhost:8080/"
        },
        "id": "W5jIZ-d5JdoC",
        "outputId": "40d21f8a-6953-4b29-f886-f927d363f8a6"
      },
      "execution_count": 17,
      "outputs": [
        {
          "output_type": "execute_result",
          "data": {
            "text/plain": [
              "array([49, 48, 47, 46, 45, 44, 43, 42, 41, 40, 39, 38, 37, 36, 35, 34, 33,\n",
              "       32, 31, 30, 29, 28, 27, 26, 25, 24, 23, 22, 21, 20, 19, 18, 17, 16,\n",
              "       15, 14, 13, 12, 11, 10])"
            ]
          },
          "metadata": {},
          "execution_count": 17
        }
      ]
    },
    {
      "cell_type": "markdown",
      "source": [
        "**Create a 3x3 matrix with values ranging from 0 to 8**"
      ],
      "metadata": {
        "id": "kXP8_ffvMAnM"
      }
    },
    {
      "cell_type": "code",
      "source": [
        "# np.arange to generating arrays of sequential numbers. With just three arguments,\n",
        "# arange(start) OR arange(start,stop,stop)\n",
        "#reshape (set shape of the array into anothe shape like 2x2, 3x3,1x9 etc)\n",
        "matrix=np.arange(9).reshape(3,3)\n",
        "print(matrix)"
      ],
      "metadata": {
        "colab": {
          "base_uri": "https://localhost:8080/"
        },
        "id": "-Yx4b7uAKjyr",
        "outputId": "5ac67c9e-fd74-494f-f2eb-fb05c3831258"
      },
      "execution_count": 31,
      "outputs": [
        {
          "output_type": "stream",
          "name": "stdout",
          "text": [
            "[[0 1 2]\n",
            " [3 4 5]\n",
            " [6 7 8]]\n"
          ]
        }
      ]
    },
    {
      "cell_type": "code",
      "source": [
        "#When you need an array of evenly spaced numbers, np.linspace\n",
        "#linspace(start,stopwhich is included,  step)\n",
        "matrix2=np.linspace(0,8,9).reshape(3,3)\n",
        "print(matrix2.astype('int16'))"
      ],
      "metadata": {
        "colab": {
          "base_uri": "https://localhost:8080/"
        },
        "id": "EmXRp4rZLDSS",
        "outputId": "969ec9cf-5f82-4b9a-9efc-166c797ca563"
      },
      "execution_count": 27,
      "outputs": [
        {
          "output_type": "stream",
          "name": "stdout",
          "text": [
            "[[0 1 2]\n",
            " [3 4 5]\n",
            " [6 7 8]]\n"
          ]
        }
      ]
    },
    {
      "cell_type": "code",
      "source": [
        "#random havie more function, the randint is for integer random\n",
        "matrix3=np.random.randint(0,8,(3,3))\n",
        "print(np.sort(matrix3))"
      ],
      "metadata": {
        "colab": {
          "base_uri": "https://localhost:8080/"
        },
        "id": "jZw4FypHLXMy",
        "outputId": "a37844e7-1af9-41ab-9292-14ab7288fb89"
      },
      "execution_count": 29,
      "outputs": [
        {
          "output_type": "stream",
          "name": "stdout",
          "text": [
            "[[1 3 5]\n",
            " [0 0 5]\n",
            " [1 1 6]]\n"
          ]
        }
      ]
    },
    {
      "cell_type": "markdown",
      "source": [
        "**Find Indices of  numbers**"
      ],
      "metadata": {
        "id": "uveF8KD4Ob0k"
      }
    },
    {
      "cell_type": "code",
      "source": [
        "arr1=np.array([10,30,70,70,0,110,0,9,None])\n",
        "arr1"
      ],
      "metadata": {
        "colab": {
          "base_uri": "https://localhost:8080/"
        },
        "id": "7CmCmj0ALnDS",
        "outputId": "3946fc2d-8626-44c6-d42c-9f4012eaaae1"
      },
      "execution_count": 56,
      "outputs": [
        {
          "output_type": "execute_result",
          "data": {
            "text/plain": [
              "array([10, 30, 70, 70, 0, 110, 0, 9, None], dtype=object)"
            ]
          },
          "metadata": {},
          "execution_count": 56
        }
      ]
    },
    {
      "cell_type": "code",
      "source": [
        "#what is index of 70\n",
        "#.where is used for conditional indexing,replacing value,data analysis\n",
        "np.where(arr1==70)"
      ],
      "metadata": {
        "colab": {
          "base_uri": "https://localhost:8080/"
        },
        "id": "VQf6y5myOm-6",
        "outputId": "060aed14-fc52-409e-e42c-4c375ef67bc1"
      },
      "execution_count": 57,
      "outputs": [
        {
          "output_type": "execute_result",
          "data": {
            "text/plain": [
              "(array([2, 3]),)"
            ]
          },
          "metadata": {},
          "execution_count": 57
        }
      ]
    },
    {
      "cell_type": "code",
      "source": [
        "np.where(arr1==None)"
      ],
      "metadata": {
        "colab": {
          "base_uri": "https://localhost:8080/"
        },
        "id": "nOWAOA0lO01S",
        "outputId": "eb0be240-c121-47f3-8986-beec7ddd0c67"
      },
      "execution_count": 59,
      "outputs": [
        {
          "output_type": "execute_result",
          "data": {
            "text/plain": [
              "(array([8]),)"
            ]
          },
          "metadata": {},
          "execution_count": 59
        }
      ]
    },
    {
      "cell_type": "code",
      "source": [
        "np.where(arr1==0)"
      ],
      "metadata": {
        "colab": {
          "base_uri": "https://localhost:8080/"
        },
        "id": "M5RxI1qBPzFx",
        "outputId": "7da7f090-346a-4fb0-ad95-eae8e12126b0"
      },
      "execution_count": 60,
      "outputs": [
        {
          "output_type": "execute_result",
          "data": {
            "text/plain": [
              "(array([4, 6]),)"
            ]
          },
          "metadata": {},
          "execution_count": 60
        }
      ]
    },
    {
      "cell_type": "code",
      "source": [],
      "metadata": {
        "id": "_bc2ipCCP3Lr"
      },
      "execution_count": 59,
      "outputs": []
    },
    {
      "cell_type": "markdown",
      "source": [
        "**Create 3 x 3 Identity Matrix**"
      ],
      "metadata": {
        "id": "88B0-4juQz4F"
      }
    },
    {
      "cell_type": "code",
      "source": [
        "identity=np.eye(3,3).astype(int)\n",
        "print(identity)"
      ],
      "metadata": {
        "colab": {
          "base_uri": "https://localhost:8080/"
        },
        "id": "vhuSNQYhQIb7",
        "outputId": "fa1d60b8-e185-40ee-f38f-dfd950ddbcc0"
      },
      "execution_count": 64,
      "outputs": [
        {
          "output_type": "stream",
          "name": "stdout",
          "text": [
            "[[1 0 0]\n",
            " [0 1 0]\n",
            " [0 0 1]]\n"
          ]
        }
      ]
    },
    {
      "cell_type": "code",
      "source": [
        "identity2=np.eye(3,3,dtype='int')\n",
        "print(identity2)"
      ],
      "metadata": {
        "colab": {
          "base_uri": "https://localhost:8080/"
        },
        "id": "mQZzHR_6Q9nr",
        "outputId": "a8206f87-db0f-44ea-fccb-11580cc04adb"
      },
      "execution_count": 66,
      "outputs": [
        {
          "output_type": "stream",
          "name": "stdout",
          "text": [
            "[[1 0 0]\n",
            " [0 1 0]\n",
            " [0 0 1]]\n"
          ]
        }
      ]
    },
    {
      "cell_type": "code",
      "source": [
        "#Check the element s size , occupation of memory\n",
        "import sys\n",
        "print(sys.getsizeof(identity)*identity.itemsize)\n",
        "print(sys.getsizeof(identity2)*identity2.itemsize)"
      ],
      "metadata": {
        "colab": {
          "base_uri": "https://localhost:8080/"
        },
        "id": "Rrv5wxmeRNUr",
        "outputId": "d952a28b-a5c1-498a-ca9c-cf738e9ea7a7"
      },
      "execution_count": 73,
      "outputs": [
        {
          "output_type": "stream",
          "name": "stdout",
          "text": [
            "1600\n",
            "1600\n"
          ]
        }
      ]
    },
    {
      "cell_type": "code",
      "source": [],
      "metadata": {
        "id": "SsxsidR-SFT8"
      },
      "execution_count": null,
      "outputs": []
    },
    {
      "cell_type": "markdown",
      "source": [
        "**Create 10x10 Matrix (randomly) find MIN MAX**"
      ],
      "metadata": {
        "id": "bs4uZ7ZUShkE"
      }
    },
    {
      "cell_type": "code",
      "source": [
        "ran=np.random.randint(1,100,100, dtype='int').reshape(10,10)\n",
        "print(ran)"
      ],
      "metadata": {
        "colab": {
          "base_uri": "https://localhost:8080/"
        },
        "id": "I82Zd7hyRTgj",
        "outputId": "690e9ce8-ce3e-4f09-a807-e562b5af6652"
      },
      "execution_count": 75,
      "outputs": [
        {
          "output_type": "stream",
          "name": "stdout",
          "text": [
            "[[28 55 89 99 79 80 54 78 39 75]\n",
            " [19 77 28 91 65 37 42 25 53 77]\n",
            " [82 33 85  7 90 70 25  3 60 37]\n",
            " [10 31 19  8 47 87 57  3 36 64]\n",
            " [ 2 95 56 52 56 71 90 27 31 68]\n",
            " [34 70 58 47 40 10 10 79 71 73]\n",
            " [15 82 42 94 18 27  6 48 45 58]\n",
            " [42 30 90 31 11 34 99 28 57 11]\n",
            " [91 24 77 73 25 83 58 89 15 53]\n",
            " [40  5 77 14 86 15 59 27 66 33]]\n"
          ]
        }
      ]
    },
    {
      "cell_type": "code",
      "source": [
        "#find Minimum value\n",
        "ran.min()"
      ],
      "metadata": {
        "colab": {
          "base_uri": "https://localhost:8080/"
        },
        "id": "5BXrwHzySrWK",
        "outputId": "2627da75-1a2d-4f59-eb53-ce0f6074fc0c"
      },
      "execution_count": 85,
      "outputs": [
        {
          "output_type": "execute_result",
          "data": {
            "text/plain": [
              "2"
            ]
          },
          "metadata": {},
          "execution_count": 85
        }
      ]
    },
    {
      "cell_type": "code",
      "source": [
        "#Where is that minimum value in array (index of 2 )\n",
        "np.where(ran==2)"
      ],
      "metadata": {
        "colab": {
          "base_uri": "https://localhost:8080/"
        },
        "id": "BilxgYBDSeVz",
        "outputId": "08f55dec-cb77-415d-ae0b-41d3667e2ec1"
      },
      "execution_count": 83,
      "outputs": [
        {
          "output_type": "execute_result",
          "data": {
            "text/plain": [
              "(array([4]), array([0]))"
            ]
          },
          "metadata": {},
          "execution_count": 83
        }
      ]
    },
    {
      "cell_type": "code",
      "source": [
        "ran.max()"
      ],
      "metadata": {
        "colab": {
          "base_uri": "https://localhost:8080/"
        },
        "id": "i4N01lSXTWlM",
        "outputId": "68853ca9-00af-40e4-d065-51a4f65dc6c1"
      },
      "execution_count": 86,
      "outputs": [
        {
          "output_type": "execute_result",
          "data": {
            "text/plain": [
              "99"
            ]
          },
          "metadata": {},
          "execution_count": 86
        }
      ]
    },
    {
      "cell_type": "code",
      "source": [
        "np.where(ran==99)"
      ],
      "metadata": {
        "colab": {
          "base_uri": "https://localhost:8080/"
        },
        "id": "m07UG6BCTYZb",
        "outputId": "d1f6433e-664c-41f2-9876-13388e7dd38c"
      },
      "execution_count": 94,
      "outputs": [
        {
          "output_type": "execute_result",
          "data": {
            "text/plain": [
              "(array([0, 7]), array([3, 6]))"
            ]
          },
          "metadata": {},
          "execution_count": 94
        }
      ]
    },
    {
      "cell_type": "code",
      "source": [],
      "metadata": {
        "id": "bGxg6va5Tbsb"
      },
      "execution_count": null,
      "outputs": []
    },
    {
      "cell_type": "markdown",
      "source": [
        "**Create a random vector of size 30 and find the mean value**"
      ],
      "metadata": {
        "id": "PBcblc39T6C0"
      }
    },
    {
      "cell_type": "code",
      "source": [
        "random=np.random.randint(0,29,30).astype('int')\n",
        "print(random)"
      ],
      "metadata": {
        "colab": {
          "base_uri": "https://localhost:8080/"
        },
        "id": "ewcKvCJXUAQB",
        "outputId": "4e1daed0-c8cd-49f3-9113-d8e1eac516de"
      },
      "execution_count": 106,
      "outputs": [
        {
          "output_type": "stream",
          "name": "stdout",
          "text": [
            "[19 18 19 20 12  9  3  4 11  4 17  0  8 23  8  2  6 15 22  1  8  7  8  8\n",
            " 16 17  9 18  1  7]\n"
          ]
        }
      ]
    },
    {
      "cell_type": "code",
      "source": [
        "print(random.mean())"
      ],
      "metadata": {
        "colab": {
          "base_uri": "https://localhost:8080/"
        },
        "id": "4cFv5F9zUHQk",
        "outputId": "71f400ab-1c44-4f33-bdbe-ee2971cf3bb2"
      },
      "execution_count": 108,
      "outputs": [
        {
          "output_type": "stream",
          "name": "stdout",
          "text": [
            "10.666666666666666\n"
          ]
        }
      ]
    },
    {
      "cell_type": "code",
      "source": [
        "print(int(random.mean()))"
      ],
      "metadata": {
        "colab": {
          "base_uri": "https://localhost:8080/"
        },
        "id": "JYVfbtvZUTqz",
        "outputId": "ebf923cc-5e9b-4074-f037-6fedb95d8bfe"
      },
      "execution_count": 109,
      "outputs": [
        {
          "output_type": "stream",
          "name": "stdout",
          "text": [
            "10\n"
          ]
        }
      ]
    },
    {
      "cell_type": "markdown",
      "source": [
        "**Create a 2d array with 1 on the border and 0 inside**"
      ],
      "metadata": {
        "id": "Pfp7wIWfU5mF"
      }
    },
    {
      "cell_type": "code",
      "source": [
        "ones=np.ones(25).reshape(5,5).astype('int')"
      ],
      "metadata": {
        "id": "0XTiS_S7Uw1K"
      },
      "execution_count": 115,
      "outputs": []
    },
    {
      "cell_type": "code",
      "source": [
        "print(ones)"
      ],
      "metadata": {
        "colab": {
          "base_uri": "https://localhost:8080/"
        },
        "id": "R261pL0FVLss",
        "outputId": "108efee5-bd89-435a-d864-049a27242e78"
      },
      "execution_count": 117,
      "outputs": [
        {
          "output_type": "stream",
          "name": "stdout",
          "text": [
            "[[1 1 1 1 1]\n",
            " [1 1 1 1 1]\n",
            " [1 1 1 1 1]\n",
            " [1 1 1 1 1]\n",
            " [1 1 1 1 1]]\n"
          ]
        }
      ]
    },
    {
      "cell_type": "code",
      "source": [
        "#Use Slcing / Indeing\n",
        "ones[1:4,1:4]=0"
      ],
      "metadata": {
        "id": "YlXBYNjCVOxz"
      },
      "execution_count": 119,
      "outputs": []
    },
    {
      "cell_type": "code",
      "source": [
        "print(ones)"
      ],
      "metadata": {
        "colab": {
          "base_uri": "https://localhost:8080/"
        },
        "id": "zkslR5tTVpT8",
        "outputId": "e988de25-cfa3-42c7-a2cf-03e0370dfcda"
      },
      "execution_count": 121,
      "outputs": [
        {
          "output_type": "stream",
          "name": "stdout",
          "text": [
            "[[1 1 1 1 1]\n",
            " [1 0 0 0 1]\n",
            " [1 0 0 0 1]\n",
            " [1 0 0 0 1]\n",
            " [1 1 1 1 1]]\n"
          ]
        }
      ]
    },
    {
      "cell_type": "code",
      "source": [],
      "metadata": {
        "id": "ZIlXT-JvVr2D"
      },
      "execution_count": null,
      "outputs": []
    },
    {
      "cell_type": "markdown",
      "source": [
        "**How to add a border (filled with 0's) around an existing array? **"
      ],
      "metadata": {
        "id": "4FeyCjj2V75l"
      }
    },
    {
      "cell_type": "code",
      "source": [
        "ones=np.ones(25).reshape(5,5).astype('int')\n",
        "print(ones)"
      ],
      "metadata": {
        "colab": {
          "base_uri": "https://localhost:8080/"
        },
        "id": "D5-O0EkVV652",
        "outputId": "fcb6c37f-24cb-4c69-cef2-c37bed6f9701"
      },
      "execution_count": 143,
      "outputs": [
        {
          "output_type": "stream",
          "name": "stdout",
          "text": [
            "[[1 1 1 1 1]\n",
            " [1 1 1 1 1]\n",
            " [1 1 1 1 1]\n",
            " [1 1 1 1 1]\n",
            " [1 1 1 1 1]]\n"
          ]
        }
      ]
    },
    {
      "cell_type": "code",
      "source": [
        "ones[0:1,:]=ones[:,0:1]=0"
      ],
      "metadata": {
        "id": "eoKzKhoDV7Cl"
      },
      "execution_count": 144,
      "outputs": []
    },
    {
      "cell_type": "code",
      "source": [
        "print(ones)"
      ],
      "metadata": {
        "colab": {
          "base_uri": "https://localhost:8080/"
        },
        "id": "G58B960vWpgc",
        "outputId": "eac6c2c2-6004-46fd-f284-86ddd4e323d2"
      },
      "execution_count": 145,
      "outputs": [
        {
          "output_type": "stream",
          "name": "stdout",
          "text": [
            "[[0 0 0 0 0]\n",
            " [0 1 1 1 1]\n",
            " [0 1 1 1 1]\n",
            " [0 1 1 1 1]\n",
            " [0 1 1 1 1]]\n"
          ]
        }
      ]
    },
    {
      "cell_type": "code",
      "source": [
        "ones[:,4:]=ones[4:,:]=0"
      ],
      "metadata": {
        "id": "XJbYKuuHWqY7"
      },
      "execution_count": 146,
      "outputs": []
    },
    {
      "cell_type": "code",
      "source": [
        "print(ones)\n"
      ],
      "metadata": {
        "colab": {
          "base_uri": "https://localhost:8080/"
        },
        "id": "vm0qP7EwXC68",
        "outputId": "c87ffc40-eef3-4721-f6fc-ce8db1657dc2"
      },
      "execution_count": 147,
      "outputs": [
        {
          "output_type": "stream",
          "name": "stdout",
          "text": [
            "[[0 0 0 0 0]\n",
            " [0 1 1 1 0]\n",
            " [0 1 1 1 0]\n",
            " [0 1 1 1 0]\n",
            " [0 0 0 0 0]]\n"
          ]
        }
      ]
    },
    {
      "cell_type": "code",
      "source": [
        "ones[0,:]=99"
      ],
      "metadata": {
        "id": "lqtNPp-XXQsS"
      },
      "execution_count": 163,
      "outputs": []
    },
    {
      "cell_type": "code",
      "source": [
        "ones[:,-1]=99"
      ],
      "metadata": {
        "id": "CHG_JodlXvET"
      },
      "execution_count": 164,
      "outputs": []
    },
    {
      "cell_type": "code",
      "source": [
        "ones[4:,:]=99"
      ],
      "metadata": {
        "id": "Ud2-IAUyX9MD"
      },
      "execution_count": 165,
      "outputs": []
    },
    {
      "cell_type": "code",
      "source": [
        "ones[:,4:]=99"
      ],
      "metadata": {
        "id": "FkCyPZBgYJIb"
      },
      "execution_count": 166,
      "outputs": []
    },
    {
      "cell_type": "code",
      "source": [
        "print(ones)"
      ],
      "metadata": {
        "colab": {
          "base_uri": "https://localhost:8080/"
        },
        "id": "2uhiawRlYQe8",
        "outputId": "5846a83c-fa6d-47fa-f795-89408c37fe87"
      },
      "execution_count": 167,
      "outputs": [
        {
          "output_type": "stream",
          "name": "stdout",
          "text": [
            "[[99 99 99 99 99]\n",
            " [ 0  1  1  1 99]\n",
            " [ 0  1  1  1 99]\n",
            " [ 0  1  1  1 99]\n",
            " [99 99 99 99 99]]\n"
          ]
        }
      ]
    },
    {
      "cell_type": "code",
      "source": [
        "0*np.nan"
      ],
      "metadata": {
        "colab": {
          "base_uri": "https://localhost:8080/"
        },
        "id": "AhHnMrbLYrZb",
        "outputId": "06e77b9e-d4e3-4601-fc85-35fd30e8f932"
      },
      "execution_count": 168,
      "outputs": [
        {
          "output_type": "execute_result",
          "data": {
            "text/plain": [
              "nan"
            ]
          },
          "metadata": {},
          "execution_count": 168
        }
      ]
    },
    {
      "cell_type": "code",
      "source": [
        "np.inf!=np.nan"
      ],
      "metadata": {
        "colab": {
          "base_uri": "https://localhost:8080/"
        },
        "id": "AvYCsljGYzQT",
        "outputId": "7469fafb-0b53-4957-ca22-1ee1e24bf9a9"
      },
      "execution_count": 172,
      "outputs": [
        {
          "output_type": "execute_result",
          "data": {
            "text/plain": [
              "True"
            ]
          },
          "metadata": {},
          "execution_count": 172
        }
      ]
    },
    {
      "cell_type": "code",
      "source": [
        "np.nan-np.nan"
      ],
      "metadata": {
        "colab": {
          "base_uri": "https://localhost:8080/"
        },
        "id": "PwmaVsyDY4zj",
        "outputId": "e5677df3-ac1d-4344-ef79-ebf74b35ed1c"
      },
      "execution_count": 173,
      "outputs": [
        {
          "output_type": "execute_result",
          "data": {
            "text/plain": [
              "nan"
            ]
          },
          "metadata": {},
          "execution_count": 173
        }
      ]
    },
    {
      "cell_type": "code",
      "source": [
        "np.nan in set([np.nan])"
      ],
      "metadata": {
        "colab": {
          "base_uri": "https://localhost:8080/"
        },
        "id": "niM4q4gkZCB7",
        "outputId": "15ea26be-96e4-4479-f96c-935ae9d63230"
      },
      "execution_count": 174,
      "outputs": [
        {
          "output_type": "execute_result",
          "data": {
            "text/plain": [
              "True"
            ]
          },
          "metadata": {},
          "execution_count": 174
        }
      ]
    },
    {
      "cell_type": "code",
      "source": [
        "0.3==3*0.1"
      ],
      "metadata": {
        "colab": {
          "base_uri": "https://localhost:8080/"
        },
        "id": "GmbUVSaMZGQ7",
        "outputId": "4450458b-da69-4ab6-88a8-cdfd7fcb0510"
      },
      "execution_count": 175,
      "outputs": [
        {
          "output_type": "execute_result",
          "data": {
            "text/plain": [
              "False"
            ]
          },
          "metadata": {},
          "execution_count": 175
        }
      ]
    },
    {
      "cell_type": "code",
      "source": [
        "np.nan==np.nan"
      ],
      "metadata": {
        "colab": {
          "base_uri": "https://localhost:8080/"
        },
        "id": "_FoEDPx3ZIuL",
        "outputId": "e116d84e-445d-477b-eab5-f136bd48b5a5"
      },
      "execution_count": 177,
      "outputs": [
        {
          "output_type": "execute_result",
          "data": {
            "text/plain": [
              "False"
            ]
          },
          "metadata": {},
          "execution_count": 177
        }
      ]
    },
    {
      "cell_type": "code",
      "source": [],
      "metadata": {
        "id": "H0td57h_ZK37"
      },
      "execution_count": null,
      "outputs": []
    }
  ]
}